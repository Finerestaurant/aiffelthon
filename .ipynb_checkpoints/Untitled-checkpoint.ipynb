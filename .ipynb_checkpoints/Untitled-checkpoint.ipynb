{
 "cells": [
  {
   "cell_type": "code",
   "execution_count": 4,
   "id": "6b483f90-5d66-40a7-88b9-967b2711f32d",
   "metadata": {},
   "outputs": [
    {
     "name": "stdout",
     "output_type": "stream",
     "text": [
      "[TpuDevice(id=0, process_index=0, coords=(0,0,0), core_on_chip=0), TpuDevice(id=1, process_index=0, coords=(0,0,0), core_on_chip=1), TpuDevice(id=2, process_index=0, coords=(1,0,0), core_on_chip=0), TpuDevice(id=3, process_index=0, coords=(1,0,0), core_on_chip=1), TpuDevice(id=4, process_index=0, coords=(0,1,0), core_on_chip=0), TpuDevice(id=5, process_index=0, coords=(0,1,0), core_on_chip=1), TpuDevice(id=6, process_index=0, coords=(1,1,0), core_on_chip=0), TpuDevice(id=7, process_index=0, coords=(1,1,0), core_on_chip=1)]\n"
     ]
    }
   ],
   "source": [
    "from dataloader import mel_dataset\n",
    "from torch.utils.data import DataLoader\n",
    "from CVAE import CVAE\n",
    "\n",
    "import flax \n",
    "import flax.linen as nn\n",
    "from flax.training import train_state\n",
    "\n",
    "import jax\n",
    "import numpy as np\n",
    "import jax.numpy as jnp\n",
    "import optax\n",
    "from tqdm import tqdm\n",
    "\n",
    "print(jax.local_devices())\n",
    "\n",
    "def collate_batch(batch):\n",
    "    x_train = [x for x, _ in batch]\n",
    "    y_train = [y for _, y in batch]                  \n",
    "        \n",
    "    return np.array(x_train), np.array(y_train)\n",
    "\n",
    "\n",
    "def init_state(model, x_shape, y_shape, key, lr) -> train_state.TrainState:\n",
    "    params = model.init({'params': key}, jnp.ones(x_shape), jnp.ones(y_shape), key)\n",
    "    # Create the optimizer\n",
    "    optimizer = optax.adam(learning_rate=lr)\n",
    "    # Create a State\n",
    "    return train_state.TrainState.create(\n",
    "        apply_fn=model.apply,\n",
    "        tx=optimizer,\n",
    "        params=params)\n",
    "\n",
    "@jax.vmap\n",
    "def kl_divergence(mean, logvar):\n",
    "    return -0.5 * jnp.sum(1 + logvar - jnp.square(mean) - jnp.exp(logvar))\n",
    "\n",
    "\n",
    "@jax.vmap\n",
    "def binary_cross_entropy_with_logits(logits, labels):\n",
    "    logits = nn.log_sigmoid(logits)\n",
    "    return -jnp.sum(labels * logits + (1. - labels) * jnp.log(-jnp.expm1(logits)))\n",
    "\n",
    "\n",
    "@jax.jit\n",
    "def train_step(state, x, y, z_rng):\n",
    "    \n",
    "    def loss_fn(params):\n",
    "        recon_x, mean, logvar = CVAE().apply({'params': params['params']}, x, y , z_rng)\n",
    "\n",
    "        bce_loss = binary_cross_entropy_with_logits(recon_x, x.reshape(x.shape[0], x.shape[1]*x.shape[2])).mean()\n",
    "        kld_loss = kl_divergence(mean, logvar).mean()\n",
    "        loss = bce_loss + kld_loss\n",
    "        return loss\n",
    "    \n",
    "    grad_fn = jax.value_and_grad(loss_fn)\n",
    "    grads = grad_fn(state.params)\n",
    "    print(len(grads))\n",
    "    \n",
    "    return state.apply_gradients(grads), loss\n"
   ]
  },
  {
   "cell_type": "code",
   "execution_count": 3,
   "id": "9b82e6c6-de35-426b-9c99-f9df3d076155",
   "metadata": {},
   "outputs": [
    {
     "name": "stdout",
     "output_type": "stream",
     "text": [
      "Loading dataset...\n",
      "Loaded data : 46690\n",
      "batch_size = 128\n",
      "learning rate = 0.0001\n",
      "Data load complete!\n",
      "\n"
     ]
    }
   ],
   "source": [
    "batch_size = 128\n",
    "lr = 0.0001\n",
    "rng = jax.random.PRNGKey(303)\n",
    "\n",
    "# ---Load dataset---\n",
    "print(\"Loading dataset...\")\n",
    "dataset_dir = '/home/anthonypark6904/dataset'\n",
    "data = mel_dataset(dataset_dir)\n",
    "print(f'Loaded data : {len(data)}')\n",
    "train_dataloader = DataLoader(data, batch_size=batch_size, shuffle=True, num_workers=0, collate_fn=collate_batch)\n",
    "print(f'batch_size = {batch_size}')\n",
    "print(f'learning rate = {lr}')\n",
    "\n",
    "print('Data load complete!\\n')\n"
   ]
  },
  {
   "cell_type": "code",
   "execution_count": 5,
   "id": "114ce4a4-0ab9-4789-9ebd-45e02eb61de0",
   "metadata": {},
   "outputs": [
    {
     "name": "stdout",
     "output_type": "stream",
     "text": [
      "Initializing model....\n"
     ]
    }
   ],
   "source": [
    "\n",
    "# ---initializing model---\n",
    "model = CVAE()\n",
    "print(\"Initializing model....\")\n",
    "state = init_state(model, \n",
    "                   next(iter(train_dataloader))[0].shape, \n",
    "                   next(iter(train_dataloader))[1].shape,\n",
    "                   rng, \n",
    "                   lr)\n"
   ]
  },
  {
   "cell_type": "code",
   "execution_count": 6,
   "id": "4ba3e82f-1918-44d6-b991-cea35527b6cd",
   "metadata": {},
   "outputs": [],
   "source": [
    "train_data = iter(train_dataloader)"
   ]
  },
  {
   "cell_type": "code",
   "execution_count": 7,
   "id": "638a8c56-8950-46f2-b7a0-435eb38975c1",
   "metadata": {},
   "outputs": [
    {
     "name": "stdout",
     "output_type": "stream",
     "text": [
      "(Traced<ShapedArray(float32[])>with<DynamicJaxprTrace(level=0/1)>, FrozenDict({\n",
      "    params: {\n",
      "        decoder: {\n",
      "            fc1: {\n",
      "                bias: Traced<ShapedArray(float32[500])>with<DynamicJaxprTrace(level=0/1)>,\n",
      "                kernel: Traced<ShapedArray(float32[20,500])>with<DynamicJaxprTrace(level=0/1)>,\n",
      "            },\n",
      "            fc2: {\n",
      "                bias: Traced<ShapedArray(float32[90048])>with<DynamicJaxprTrace(level=0/1)>,\n",
      "                kernel: Traced<ShapedArray(float32[500,90048])>with<DynamicJaxprTrace(level=0/1)>,\n",
      "            },\n",
      "        },\n",
      "        encoder: {\n",
      "            fc1: {\n",
      "                bias: Traced<ShapedArray(float32[500])>with<DynamicJaxprTrace(level=0/1)>,\n",
      "                kernel: Traced<ShapedArray(float32[90078,500])>with<DynamicJaxprTrace(level=0/1)>,\n",
      "            },\n",
      "            fc2_logvar: {\n",
      "                bias: Traced<ShapedArray(float32[20])>with<DynamicJaxprTrace(level=0/1)>,\n",
      "                kernel: Traced<ShapedArray(float32[500,20])>with<DynamicJaxprTrace(level=0/1)>,\n",
      "            },\n",
      "            fc2_mean: {\n",
      "                bias: Traced<ShapedArray(float32[20])>with<DynamicJaxprTrace(level=0/1)>,\n",
      "                kernel: Traced<ShapedArray(float32[500,20])>with<DynamicJaxprTrace(level=0/1)>,\n",
      "            },\n",
      "        },\n",
      "    },\n",
      "}))\n"
     ]
    },
    {
     "ename": "TypeError",
     "evalue": "apply_gradients() takes 1 positional argument but 2 were given",
     "output_type": "error",
     "traceback": [
      "\u001b[0;31m---------------------------------------------------------------------------\u001b[0m",
      "\u001b[0;31mTypeError\u001b[0m                                 Traceback (most recent call last)",
      "Input \u001b[0;32mIn [7]\u001b[0m, in \u001b[0;36m<cell line: 3>\u001b[0;34m()\u001b[0m\n\u001b[1;32m      1\u001b[0m rng, key \u001b[38;5;241m=\u001b[39m jax\u001b[38;5;241m.\u001b[39mrandom\u001b[38;5;241m.\u001b[39msplit(rng)\n\u001b[1;32m      2\u001b[0m x, y \u001b[38;5;241m=\u001b[39m \u001b[38;5;28mnext\u001b[39m(train_data)\n\u001b[0;32m----> 3\u001b[0m state, loss \u001b[38;5;241m=\u001b[39m \u001b[43mtrain_step\u001b[49m\u001b[43m(\u001b[49m\u001b[43mstate\u001b[49m\u001b[43m,\u001b[49m\u001b[43m \u001b[49m\u001b[43mx\u001b[49m\u001b[43m,\u001b[49m\u001b[43m \u001b[49m\u001b[43my\u001b[49m\u001b[43m,\u001b[49m\u001b[43m \u001b[49m\u001b[43mrng\u001b[49m\u001b[43m)\u001b[49m\n",
      "    \u001b[0;31m[... skipping hidden 14 frame]\u001b[0m\n",
      "Input \u001b[0;32mIn [4]\u001b[0m, in \u001b[0;36mtrain_step\u001b[0;34m(state, x, y, z_rng)\u001b[0m\n\u001b[1;32m     57\u001b[0m grads \u001b[38;5;241m=\u001b[39m grad_fn(state\u001b[38;5;241m.\u001b[39mparams)\n\u001b[1;32m     58\u001b[0m \u001b[38;5;28mprint\u001b[39m(grads)\n\u001b[0;32m---> 60\u001b[0m \u001b[38;5;28;01mreturn\u001b[39;00m \u001b[43mstate\u001b[49m\u001b[38;5;241;43m.\u001b[39;49m\u001b[43mapply_gradients\u001b[49m\u001b[43m(\u001b[49m\u001b[43mgrads\u001b[49m\u001b[43m)\u001b[49m, loss\n",
      "\u001b[0;31mTypeError\u001b[0m: apply_gradients() takes 1 positional argument but 2 were given"
     ]
    }
   ],
   "source": [
    "rng, key = jax.random.split(rng)\n",
    "x, y = next(train_data)\n",
    "state, loss = train_step(state, x, y, rng)"
   ]
  },
  {
   "cell_type": "code",
   "execution_count": null,
   "id": "5175a77d-4bf7-44b2-b461-44b1c2c49338",
   "metadata": {},
   "outputs": [],
   "source": [
    "\n",
    "# ---initializing model---\n",
    "model = CVAE()\n",
    "print(\"Initializing model....\")\n",
    "state = init_state(model, \n",
    "                   next(iter(train_dataloader))[0].shape, \n",
    "                   next(iter(train_dataloader))[1].shape,\n",
    "                   rng, \n",
    "                   lr)\n",
    "\n",
    "print(\"Initialize complete!!\\n\")\n",
    "# ---train model---\n",
    "epoch = 50\n",
    "# checkpoint_dir = str(input('checkpoint dir : '))\n",
    "\n",
    "\n",
    "for i in range(epoch):\n",
    "    train_data = iter(train_dataloader)\n",
    "    loss_mean = 0\n",
    "    print(f'\\nEpoch {i+1}')\n",
    "\n",
    "    for j in range(len(train_dataloader)):\n",
    "        rng, key = jax.random.split(rng)\n",
    "        x, y = next(train_data)\n",
    "        state, loss = train_step(state, x, y, rng)\n",
    "\n",
    "        loss_mean += loss\n",
    "\n",
    "        print(f'step : {j}/{len(train_dataloader)}, loss : {loss}', end='\\r')\n",
    "\n",
    "    print(f'epoch {i+1} - average loss : {loss_mean/len(train_dataloader)}')\n",
    "\n",
    "\n",
    "\n",
    "\n"
   ]
  }
 ],
 "metadata": {
  "kernelspec": {
   "display_name": "Python 3 (ipykernel)",
   "language": "python",
   "name": "python3"
  },
  "language_info": {
   "codemirror_mode": {
    "name": "ipython",
    "version": 3
   },
   "file_extension": ".py",
   "mimetype": "text/x-python",
   "name": "python",
   "nbconvert_exporter": "python",
   "pygments_lexer": "ipython3",
   "version": "3.8.10"
  }
 },
 "nbformat": 4,
 "nbformat_minor": 5
}
