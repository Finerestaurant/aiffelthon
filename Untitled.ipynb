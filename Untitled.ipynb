{
 "cells": [
  {
   "cell_type": "code",
   "execution_count": 1,
   "id": "c2cf9831-c80e-4c04-9291-c982f629ee1d",
   "metadata": {},
   "outputs": [],
   "source": [
    "# 2022-09-02 16:23 Seoul\n",
    "\n",
    "# --- import dataset ---\n",
    "from utils.dataloader import mel_dataset\n",
    "from utils.losses import *\n",
    "from torch.utils.data import DataLoader, random_split\n",
    "\n",
    "# --- import model ---\n",
    "from model.supervised_model import *\n",
    "\n",
    "# --- import framework ---\n",
    "import flax \n",
    "import flax.linen as nn\n",
    "from flax.training import train_state\n",
    "import jax\n",
    "import numpy as np\n",
    "import jax.numpy as jnp\n",
    "import optax\n",
    "\n",
    "import cloudpickle\n",
    "import argparse\n",
    "from tqdm import tqdm\n",
    "import os\n",
    "import wandb\n",
    "import matplotlib.pyplot as plt\n",
    "\n",
    "\n",
    "# --- collate batch for dataloader ---\n",
    "def collate_batch(batch):\n",
    "    x_train = [x for x, _ in batch]\n",
    "    y_train = [y for _, y in batch]                  \n",
    "        \n",
    "    return np.array(x_train), np.array(y_train)\n",
    "\n",
    "\n"
   ]
  },
  {
   "cell_type": "markdown",
   "id": "ec1f4c49-033e-4600-be6d-666e4150bb52",
   "metadata": {},
   "source": [
    "# Init_state"
   ]
  },
  {
   "cell_type": "code",
   "execution_count": 2,
   "id": "8def7496-2562-4af5-829e-51324f4a4fad",
   "metadata": {},
   "outputs": [],
   "source": [
    "# --- define init state ---\n",
    "def init_state(model, x_shape, key, lr) -> train_state.TrainState:\n",
    "    params = model.init({'params': key}, jnp.ones(x_shape), key)\n",
    "    optimizer = optax.adam(learning_rate=lr)\n",
    "    return train_state.TrainState.create(\n",
    "        apply_fn=model.apply,\n",
    "        tx=optimizer,\n",
    "        params=params)"
   ]
  },
  {
   "cell_type": "markdown",
   "id": "f521c70f-031d-408f-8cd7-475397845c0e",
   "metadata": {},
   "source": [
    "# Train step"
   ]
  },
  {
   "cell_type": "code",
   "execution_count": 8,
   "id": "1d038d14-f276-44a3-adc3-639e19feb53e",
   "metadata": {},
   "outputs": [],
   "source": [
    "# --- define train_step ---\n",
    "@jax.jit\n",
    "def train_step(state, x, z_rng):    \n",
    "    \n",
    "    def loss_fn(params):\n",
    "        recon_x, mean, logvar = model.apply(params, x, z_rng)\n",
    "        kld_loss = kl_divergence(mean, logvar).mean()\n",
    "        mse_loss = ((recon_x - x)**2).mean()\n",
    "        loss = mse_loss + kld_loss\n",
    "        return loss\n",
    "    \n",
    "    grad_fn = jax.value_and_grad(loss_fn)\n",
    "    loss, grads = grad_fn(state.params)\n",
    "    \n",
    "    return state.apply_gradients(grads=grads), loss\n"
   ]
  },
  {
   "cell_type": "markdown",
   "id": "9b87119b-d043-4a0e-b93f-360d2df52139",
   "metadata": {},
   "source": [
    "# Eval step"
   ]
  },
  {
   "cell_type": "code",
   "execution_count": 4,
   "id": "20f60817-b4be-4d75-8a15-f06b1a4baf58",
   "metadata": {},
   "outputs": [],
   "source": [
    "# --- define eval step ---\n",
    "@jax.jit\n",
    "def eval_step(state, x, z_rng):\n",
    "    \n",
    "    recon_x, mean, logvar = model.apply(state.params, x, z_rng)\n",
    "    kld_loss = kl_divergence(mean, logvar).mean()\n",
    "    mse_loss = ((recon_x - x)**2).mean()\n",
    "    loss = mse_loss + kld_loss\n",
    "    \n",
    "    return recon_x, loss, mse_loss, kld_loss\n",
    "\n",
    "@jax.jit\n",
    "def linear_eval_step(state, x, y):\n",
    "    \n",
    "    logits = linear_evaluation().apply(state.params, x)\n",
    "    loss = jnp.mean(optax.softmax_cross_entropy(logits, y))\n",
    "    accuracy = jnp.mean(jnp.argmax(logits, -1) == jnp.argmax(labels, -1))\n",
    "    \n",
    "    return loss, accuracy\n",
    "\n"
   ]
  },
  {
   "cell_type": "code",
   "execution_count": 3,
   "id": "3bf26d21-a925-4396-91a2-d8ad38d4d37a",
   "metadata": {},
   "outputs": [
    {
     "name": "stdout",
     "output_type": "stream",
     "text": [
      "Loading dataset...\n",
      "Load song_meta.json...\n"
     ]
    },
    {
     "name": "stderr",
     "output_type": "stream",
     "text": [
      "100%|██████████████████████████████████████████████████████████████████████████████████████████████████████████████████████████████████████████████████████████████████| 707989/707989 [00:00<00:00, 840478.87it/s]\n"
     ]
    },
    {
     "name": "stdout",
     "output_type": "stream",
     "text": [
      "Load complete!\n",
      "\n",
      "Load file list...\n"
     ]
    },
    {
     "name": "stderr",
     "output_type": "stream",
     "text": [
      "111it [00:09, 11.21it/s]\n"
     ]
    },
    {
     "name": "stdout",
     "output_type": "stream",
     "text": [
      "Loaded data : 93389\n",
      "\n"
     ]
    }
   ],
   "source": [
    "from model.Conv2d_model import Conv2d_VAE, Encoder\n",
    "model = Conv2d_VAE(dilation=True)\n",
    "\n",
    "\n",
    "batch_size = 16\n",
    "lr = 0.0001\n",
    "\n",
    "rng = jax.random.PRNGKey(303)\n",
    "\n",
    "\n",
    "# ---Load dataset---\n",
    "dataset_dir = os.path.join(os.path.expanduser('~'),'dataset')            \n",
    "\n",
    "print(\"Loading dataset...\")    \n",
    "data = mel_dataset(dataset_dir)\n",
    "print(f'Loaded data : {len(data)}\\n')\n",
    "\n",
    "dataset_size = len(data)\n",
    "train_size = int(dataset_size * 0.8)\n",
    "test_size = dataset_size - train_size\n",
    "\n",
    "train_dataset, test_dataset = random_split(data, [train_size, test_size])\n",
    "\n",
    "\n",
    "train_dataloader = DataLoader(train_dataset, batch_size=batch_size, shuffle=True, num_workers=0, collate_fn=collate_batch)\n",
    "test_dataloader = DataLoader(test_dataset, batch_size=int(batch_size/4), shuffle=True, num_workers=0, collate_fn=collate_batch)"
   ]
  },
  {
   "cell_type": "code",
   "execution_count": 5,
   "id": "cab9541c-70ac-4a8c-ad05-5adf3b614e11",
   "metadata": {},
   "outputs": [
    {
     "name": "stdout",
     "output_type": "stream",
     "text": [
      "Data load complete!\n",
      "\n"
     ]
    },
    {
     "data": {
      "text/html": [
       "<pre style=\"white-space:pre;overflow-x:auto;line-height:normal;font-family:Menlo,'DejaVu Sans Mono',consolas,'Courier New',monospace\"><span style=\"font-style: italic\">                                     Conv2d_VAE Summary                                      </span>\n",
       "┏━━━━━━━━━━━━━━━━━━━━━━━┳━━━━━━━━━━━━━━━━━━━━━━━┳━━━━━━━━━━━━━━━━━━━━┳━━━━━━━━━━━━━━━━━━━━━━┓\n",
       "┃<span style=\"font-weight: bold\"> path                  </span>┃<span style=\"font-weight: bold\"> outputs               </span>┃<span style=\"font-weight: bold\"> batch_stats        </span>┃<span style=\"font-weight: bold\"> params               </span>┃\n",
       "┡━━━━━━━━━━━━━━━━━━━━━━━╇━━━━━━━━━━━━━━━━━━━━━━━╇━━━━━━━━━━━━━━━━━━━━╇━━━━━━━━━━━━━━━━━━━━━━┩\n",
       "│ Inputs                │ - <span style=\"color: #7f7f7f; text-decoration-color: #7f7f7f\">float32</span>[16,48,1876] │                    │                      │\n",
       "│                       │ - <span style=\"color: #7f7f7f; text-decoration-color: #7f7f7f\">uint32</span>[2]           │                    │                      │\n",
       "├───────────────────────┼───────────────────────┼────────────────────┼──────────────────────┤\n",
       "│ decoder/BatchNorm_0   │ <span style=\"color: #7f7f7f; text-decoration-color: #7f7f7f\">float32</span>[16,12,469,32] │ mean: <span style=\"color: #7f7f7f; text-decoration-color: #7f7f7f\">float32</span>[32]  │ bias: <span style=\"color: #7f7f7f; text-decoration-color: #7f7f7f\">float32</span>[32]    │\n",
       "│                       │                       │ var: <span style=\"color: #7f7f7f; text-decoration-color: #7f7f7f\">float32</span>[32]   │ scale: <span style=\"color: #7f7f7f; text-decoration-color: #7f7f7f\">float32</span>[32]   │\n",
       "│                       │                       │                    │                      │\n",
       "│                       │                       │ <span style=\"font-weight: bold\">64 </span><span style=\"color: #7f7f7f; text-decoration-color: #7f7f7f; font-weight: bold\">(256 B)</span>         │ <span style=\"font-weight: bold\">64 </span><span style=\"color: #7f7f7f; text-decoration-color: #7f7f7f; font-weight: bold\">(256 B)</span>           │\n",
       "├───────────────────────┼───────────────────────┼────────────────────┼──────────────────────┤\n",
       "│ decoder/BatchNorm_1   │ <span style=\"color: #7f7f7f; text-decoration-color: #7f7f7f\">float32</span>[16,12,469,64] │ mean: <span style=\"color: #7f7f7f; text-decoration-color: #7f7f7f\">float32</span>[64]  │ bias: <span style=\"color: #7f7f7f; text-decoration-color: #7f7f7f\">float32</span>[64]    │\n",
       "│                       │                       │ var: <span style=\"color: #7f7f7f; text-decoration-color: #7f7f7f\">float32</span>[64]   │ scale: <span style=\"color: #7f7f7f; text-decoration-color: #7f7f7f\">float32</span>[64]   │\n",
       "│                       │                       │                    │                      │\n",
       "│                       │                       │ <span style=\"font-weight: bold\">128 </span><span style=\"color: #7f7f7f; text-decoration-color: #7f7f7f; font-weight: bold\">(512 B)</span>        │ <span style=\"font-weight: bold\">128 </span><span style=\"color: #7f7f7f; text-decoration-color: #7f7f7f; font-weight: bold\">(512 B)</span>          │\n",
       "├───────────────────────┼───────────────────────┼────────────────────┼──────────────────────┤\n",
       "│ decoder/BatchNorm_2   │ <span style=\"color: #7f7f7f; text-decoration-color: #7f7f7f\">float32</span>[16,24,938,12… │ mean: <span style=\"color: #7f7f7f; text-decoration-color: #7f7f7f\">float32</span>[128] │ bias: <span style=\"color: #7f7f7f; text-decoration-color: #7f7f7f\">float32</span>[128]   │\n",
       "│                       │                       │ var: <span style=\"color: #7f7f7f; text-decoration-color: #7f7f7f\">float32</span>[128]  │ scale: <span style=\"color: #7f7f7f; text-decoration-color: #7f7f7f\">float32</span>[128]  │\n",
       "│                       │                       │                    │                      │\n",
       "│                       │                       │ <span style=\"font-weight: bold\">256 </span><span style=\"color: #7f7f7f; text-decoration-color: #7f7f7f; font-weight: bold\">(1.0 KB)</span>       │ <span style=\"font-weight: bold\">256 </span><span style=\"color: #7f7f7f; text-decoration-color: #7f7f7f; font-weight: bold\">(1.0 KB)</span>         │\n",
       "├───────────────────────┼───────────────────────┼────────────────────┼──────────────────────┤\n",
       "│ decoder/ConvTranspos… │ <span style=\"color: #7f7f7f; text-decoration-color: #7f7f7f\">float32</span>[16,12,469,32] │                    │ bias: <span style=\"color: #7f7f7f; text-decoration-color: #7f7f7f\">float32</span>[32]    │\n",
       "│                       │                       │                    │ kernel:              │\n",
       "│                       │                       │                    │ <span style=\"color: #7f7f7f; text-decoration-color: #7f7f7f\">float32</span>[3,3,1,32]    │\n",
       "│                       │                       │                    │                      │\n",
       "│                       │                       │                    │ <span style=\"font-weight: bold\">320 </span><span style=\"color: #7f7f7f; text-decoration-color: #7f7f7f; font-weight: bold\">(1.3 KB)</span>         │\n",
       "├───────────────────────┼───────────────────────┼────────────────────┼──────────────────────┤\n",
       "│ decoder/ConvTranspos… │ <span style=\"color: #7f7f7f; text-decoration-color: #7f7f7f\">float32</span>[16,12,469,64] │                    │ bias: <span style=\"color: #7f7f7f; text-decoration-color: #7f7f7f\">float32</span>[64]    │\n",
       "│                       │                       │                    │ kernel:              │\n",
       "│                       │                       │                    │ <span style=\"color: #7f7f7f; text-decoration-color: #7f7f7f\">float32</span>[3,3,32,64]   │\n",
       "│                       │                       │                    │                      │\n",
       "│                       │                       │                    │ <span style=\"font-weight: bold\">18,496 </span><span style=\"color: #7f7f7f; text-decoration-color: #7f7f7f; font-weight: bold\">(74.0 KB)</span>     │\n",
       "├───────────────────────┼───────────────────────┼────────────────────┼──────────────────────┤\n",
       "│ decoder/ConvTranspos… │ <span style=\"color: #7f7f7f; text-decoration-color: #7f7f7f\">float32</span>[16,24,938,12… │                    │ bias: <span style=\"color: #7f7f7f; text-decoration-color: #7f7f7f\">float32</span>[128]   │\n",
       "│                       │                       │                    │ kernel:              │\n",
       "│                       │                       │                    │ <span style=\"color: #7f7f7f; text-decoration-color: #7f7f7f\">float32</span>[3,3,64,128]  │\n",
       "│                       │                       │                    │                      │\n",
       "│                       │                       │                    │ <span style=\"font-weight: bold\">73,856 </span><span style=\"color: #7f7f7f; text-decoration-color: #7f7f7f; font-weight: bold\">(295.4 KB)</span>    │\n",
       "├───────────────────────┼───────────────────────┼────────────────────┼──────────────────────┤\n",
       "│ decoder/ConvTranspos… │ <span style=\"color: #7f7f7f; text-decoration-color: #7f7f7f\">float32</span>[16,48,1876,2… │                    │ bias: <span style=\"color: #7f7f7f; text-decoration-color: #7f7f7f\">float32</span>[256]   │\n",
       "│                       │                       │                    │ kernel:              │\n",
       "│                       │                       │                    │ <span style=\"color: #7f7f7f; text-decoration-color: #7f7f7f\">float32</span>[3,3,128,256] │\n",
       "│                       │                       │                    │                      │\n",
       "│                       │                       │                    │ <span style=\"font-weight: bold\">295,168 </span><span style=\"color: #7f7f7f; text-decoration-color: #7f7f7f; font-weight: bold\">(1.2 MB)</span>     │\n",
       "├───────────────────────┼───────────────────────┼────────────────────┼──────────────────────┤\n",
       "│ decoder/ConvTranspos… │ <span style=\"color: #7f7f7f; text-decoration-color: #7f7f7f\">float32</span>[16,48,1876,1] │                    │ bias: <span style=\"color: #7f7f7f; text-decoration-color: #7f7f7f\">float32</span>[1]     │\n",
       "│                       │                       │                    │ kernel:              │\n",
       "│                       │                       │                    │ <span style=\"color: #7f7f7f; text-decoration-color: #7f7f7f\">float32</span>[3,3,256,1]   │\n",
       "│                       │                       │                    │                      │\n",
       "│                       │                       │                    │ <span style=\"font-weight: bold\">2,305 </span><span style=\"color: #7f7f7f; text-decoration-color: #7f7f7f; font-weight: bold\">(9.2 KB)</span>       │\n",
       "├───────────────────────┼───────────────────────┼────────────────────┼──────────────────────┤\n",
       "│ decoder/Dense_0       │ <span style=\"color: #7f7f7f; text-decoration-color: #7f7f7f\">float32</span>[16,5628]      │                    │ bias: <span style=\"color: #7f7f7f; text-decoration-color: #7f7f7f\">float32</span>[5628]  │\n",
       "│                       │                       │                    │ kernel:              │\n",
       "│                       │                       │                    │ <span style=\"color: #7f7f7f; text-decoration-color: #7f7f7f\">float32</span>[512,5628]    │\n",
       "│                       │                       │                    │                      │\n",
       "│                       │                       │                    │ <span style=\"font-weight: bold\">2,887,164 </span><span style=\"color: #7f7f7f; text-decoration-color: #7f7f7f; font-weight: bold\">(11.5 MB)</span>  │\n",
       "├───────────────────────┼───────────────────────┼────────────────────┼──────────────────────┤\n",
       "│ decoder               │ <span style=\"color: #7f7f7f; text-decoration-color: #7f7f7f\">float32</span>[16,48,1876]   │                    │                      │\n",
       "├───────────────────────┼───────────────────────┼────────────────────┼──────────────────────┤\n",
       "│ encoder/BatchNorm_0   │ <span style=\"color: #7f7f7f; text-decoration-color: #7f7f7f\">float32</span>[16,24,938,51… │ mean: <span style=\"color: #7f7f7f; text-decoration-color: #7f7f7f\">float32</span>[512] │ bias: <span style=\"color: #7f7f7f; text-decoration-color: #7f7f7f\">float32</span>[512]   │\n",
       "│                       │                       │ var: <span style=\"color: #7f7f7f; text-decoration-color: #7f7f7f\">float32</span>[512]  │ scale: <span style=\"color: #7f7f7f; text-decoration-color: #7f7f7f\">float32</span>[512]  │\n",
       "│                       │                       │                    │                      │\n",
       "│                       │                       │ <span style=\"font-weight: bold\">1,024 </span><span style=\"color: #7f7f7f; text-decoration-color: #7f7f7f; font-weight: bold\">(4.1 KB)</span>     │ <span style=\"font-weight: bold\">1,024 </span><span style=\"color: #7f7f7f; text-decoration-color: #7f7f7f; font-weight: bold\">(4.1 KB)</span>       │\n",
       "├───────────────────────┼───────────────────────┼────────────────────┼──────────────────────┤\n",
       "│ encoder/BatchNorm_1   │ <span style=\"color: #7f7f7f; text-decoration-color: #7f7f7f\">float32</span>[16,24,938,51… │ mean: <span style=\"color: #7f7f7f; text-decoration-color: #7f7f7f\">float32</span>[512] │ bias: <span style=\"color: #7f7f7f; text-decoration-color: #7f7f7f\">float32</span>[512]   │\n",
       "│                       │                       │ var: <span style=\"color: #7f7f7f; text-decoration-color: #7f7f7f\">float32</span>[512]  │ scale: <span style=\"color: #7f7f7f; text-decoration-color: #7f7f7f\">float32</span>[512]  │\n",
       "│                       │                       │                    │                      │\n",
       "│                       │                       │ <span style=\"font-weight: bold\">1,024 </span><span style=\"color: #7f7f7f; text-decoration-color: #7f7f7f; font-weight: bold\">(4.1 KB)</span>     │ <span style=\"font-weight: bold\">1,024 </span><span style=\"color: #7f7f7f; text-decoration-color: #7f7f7f; font-weight: bold\">(4.1 KB)</span>       │\n",
       "├───────────────────────┼───────────────────────┼────────────────────┼──────────────────────┤\n",
       "│ encoder/BatchNorm_2   │ <span style=\"color: #7f7f7f; text-decoration-color: #7f7f7f\">float32</span>[16,12,469,25… │ mean: <span style=\"color: #7f7f7f; text-decoration-color: #7f7f7f\">float32</span>[256] │ bias: <span style=\"color: #7f7f7f; text-decoration-color: #7f7f7f\">float32</span>[256]   │\n",
       "│                       │                       │ var: <span style=\"color: #7f7f7f; text-decoration-color: #7f7f7f\">float32</span>[256]  │ scale: <span style=\"color: #7f7f7f; text-decoration-color: #7f7f7f\">float32</span>[256]  │\n",
       "│                       │                       │                    │                      │\n",
       "│                       │                       │ <span style=\"font-weight: bold\">512 </span><span style=\"color: #7f7f7f; text-decoration-color: #7f7f7f; font-weight: bold\">(2.0 KB)</span>       │ <span style=\"font-weight: bold\">512 </span><span style=\"color: #7f7f7f; text-decoration-color: #7f7f7f; font-weight: bold\">(2.0 KB)</span>         │\n",
       "├───────────────────────┼───────────────────────┼────────────────────┼──────────────────────┤\n",
       "│ encoder/BatchNorm_3   │ <span style=\"color: #7f7f7f; text-decoration-color: #7f7f7f\">float32</span>[16,12,469,12… │ mean: <span style=\"color: #7f7f7f; text-decoration-color: #7f7f7f\">float32</span>[128] │ bias: <span style=\"color: #7f7f7f; text-decoration-color: #7f7f7f\">float32</span>[128]   │\n",
       "│                       │                       │ var: <span style=\"color: #7f7f7f; text-decoration-color: #7f7f7f\">float32</span>[128]  │ scale: <span style=\"color: #7f7f7f; text-decoration-color: #7f7f7f\">float32</span>[128]  │\n",
       "│                       │                       │                    │                      │\n",
       "│                       │                       │ <span style=\"font-weight: bold\">256 </span><span style=\"color: #7f7f7f; text-decoration-color: #7f7f7f; font-weight: bold\">(1.0 KB)</span>       │ <span style=\"font-weight: bold\">256 </span><span style=\"color: #7f7f7f; text-decoration-color: #7f7f7f; font-weight: bold\">(1.0 KB)</span>         │\n",
       "├───────────────────────┼───────────────────────┼────────────────────┼──────────────────────┤\n",
       "│ encoder/BatchNorm_4   │ <span style=\"color: #7f7f7f; text-decoration-color: #7f7f7f\">float32</span>[16,12,469,64] │ mean: <span style=\"color: #7f7f7f; text-decoration-color: #7f7f7f\">float32</span>[64]  │ bias: <span style=\"color: #7f7f7f; text-decoration-color: #7f7f7f\">float32</span>[64]    │\n",
       "│                       │                       │ var: <span style=\"color: #7f7f7f; text-decoration-color: #7f7f7f\">float32</span>[64]   │ scale: <span style=\"color: #7f7f7f; text-decoration-color: #7f7f7f\">float32</span>[64]   │\n",
       "│                       │                       │                    │                      │\n",
       "│                       │                       │ <span style=\"font-weight: bold\">128 </span><span style=\"color: #7f7f7f; text-decoration-color: #7f7f7f; font-weight: bold\">(512 B)</span>        │ <span style=\"font-weight: bold\">128 </span><span style=\"color: #7f7f7f; text-decoration-color: #7f7f7f; font-weight: bold\">(512 B)</span>          │\n",
       "├───────────────────────┼───────────────────────┼────────────────────┼──────────────────────┤\n",
       "│ encoder/BatchNorm_5   │ <span style=\"color: #7f7f7f; text-decoration-color: #7f7f7f\">float32</span>[16,12,469,32] │ mean: <span style=\"color: #7f7f7f; text-decoration-color: #7f7f7f\">float32</span>[32]  │ bias: <span style=\"color: #7f7f7f; text-decoration-color: #7f7f7f\">float32</span>[32]    │\n",
       "│                       │                       │ var: <span style=\"color: #7f7f7f; text-decoration-color: #7f7f7f\">float32</span>[32]   │ scale: <span style=\"color: #7f7f7f; text-decoration-color: #7f7f7f\">float32</span>[32]   │\n",
       "│                       │                       │                    │                      │\n",
       "│                       │                       │ <span style=\"font-weight: bold\">64 </span><span style=\"color: #7f7f7f; text-decoration-color: #7f7f7f; font-weight: bold\">(256 B)</span>         │ <span style=\"font-weight: bold\">64 </span><span style=\"color: #7f7f7f; text-decoration-color: #7f7f7f; font-weight: bold\">(256 B)</span>           │\n",
       "├───────────────────────┼───────────────────────┼────────────────────┼──────────────────────┤\n",
       "│ encoder/BatchNorm_6   │ <span style=\"color: #7f7f7f; text-decoration-color: #7f7f7f\">float32</span>[16,12,469,16] │ mean: <span style=\"color: #7f7f7f; text-decoration-color: #7f7f7f\">float32</span>[16]  │ bias: <span style=\"color: #7f7f7f; text-decoration-color: #7f7f7f\">float32</span>[16]    │\n",
       "│                       │                       │ var: <span style=\"color: #7f7f7f; text-decoration-color: #7f7f7f\">float32</span>[16]   │ scale: <span style=\"color: #7f7f7f; text-decoration-color: #7f7f7f\">float32</span>[16]   │\n",
       "│                       │                       │                    │                      │\n",
       "│                       │                       │ <span style=\"font-weight: bold\">32 </span><span style=\"color: #7f7f7f; text-decoration-color: #7f7f7f; font-weight: bold\">(128 B)</span>         │ <span style=\"font-weight: bold\">32 </span><span style=\"color: #7f7f7f; text-decoration-color: #7f7f7f; font-weight: bold\">(128 B)</span>           │\n",
       "├───────────────────────┼───────────────────────┼────────────────────┼──────────────────────┤\n",
       "│ encoder/BatchNorm_7   │ <span style=\"color: #7f7f7f; text-decoration-color: #7f7f7f\">float32</span>[16,12,469,1]  │ mean: <span style=\"color: #7f7f7f; text-decoration-color: #7f7f7f\">float32</span>[1]   │ bias: <span style=\"color: #7f7f7f; text-decoration-color: #7f7f7f\">float32</span>[1]     │\n",
       "│                       │                       │ var: <span style=\"color: #7f7f7f; text-decoration-color: #7f7f7f\">float32</span>[1]    │ scale: <span style=\"color: #7f7f7f; text-decoration-color: #7f7f7f\">float32</span>[1]    │\n",
       "│                       │                       │                    │                      │\n",
       "│                       │                       │ <span style=\"font-weight: bold\">2 </span><span style=\"color: #7f7f7f; text-decoration-color: #7f7f7f; font-weight: bold\">(8 B)</span>            │ <span style=\"font-weight: bold\">2 </span><span style=\"color: #7f7f7f; text-decoration-color: #7f7f7f; font-weight: bold\">(8 B)</span>              │\n",
       "├───────────────────────┼───────────────────────┼────────────────────┼──────────────────────┤\n",
       "│ encoder/Conv_0        │ <span style=\"color: #7f7f7f; text-decoration-color: #7f7f7f\">float32</span>[16,24,938,51… │                    │ bias: <span style=\"color: #7f7f7f; text-decoration-color: #7f7f7f\">float32</span>[512]   │\n",
       "│                       │                       │                    │ kernel:              │\n",
       "│                       │                       │                    │ <span style=\"color: #7f7f7f; text-decoration-color: #7f7f7f\">float32</span>[3,3,1,512]   │\n",
       "│                       │                       │                    │                      │\n",
       "│                       │                       │                    │ <span style=\"font-weight: bold\">5,120 </span><span style=\"color: #7f7f7f; text-decoration-color: #7f7f7f; font-weight: bold\">(20.5 KB)</span>      │\n",
       "├───────────────────────┼───────────────────────┼────────────────────┼──────────────────────┤\n",
       "│ encoder/Conv_1        │ <span style=\"color: #7f7f7f; text-decoration-color: #7f7f7f\">float32</span>[16,24,938,51… │                    │ bias: <span style=\"color: #7f7f7f; text-decoration-color: #7f7f7f\">float32</span>[512]   │\n",
       "│                       │                       │                    │ kernel:              │\n",
       "│                       │                       │                    │ <span style=\"color: #7f7f7f; text-decoration-color: #7f7f7f\">float32</span>[3,3,512,512] │\n",
       "│                       │                       │                    │                      │\n",
       "│                       │                       │                    │ <span style=\"font-weight: bold\">2,359,808 </span><span style=\"color: #7f7f7f; text-decoration-color: #7f7f7f; font-weight: bold\">(9.4 MB)</span>   │\n",
       "├───────────────────────┼───────────────────────┼────────────────────┼──────────────────────┤\n",
       "│ encoder/Conv_2        │ <span style=\"color: #7f7f7f; text-decoration-color: #7f7f7f\">float32</span>[16,12,469,25… │                    │ bias: <span style=\"color: #7f7f7f; text-decoration-color: #7f7f7f\">float32</span>[256]   │\n",
       "│                       │                       │                    │ kernel:              │\n",
       "│                       │                       │                    │ <span style=\"color: #7f7f7f; text-decoration-color: #7f7f7f\">float32</span>[3,3,512,256] │\n",
       "│                       │                       │                    │                      │\n",
       "│                       │                       │                    │ <span style=\"font-weight: bold\">1,179,904 </span><span style=\"color: #7f7f7f; text-decoration-color: #7f7f7f; font-weight: bold\">(4.7 MB)</span>   │\n",
       "├───────────────────────┼───────────────────────┼────────────────────┼──────────────────────┤\n",
       "│ encoder/Conv_3        │ <span style=\"color: #7f7f7f; text-decoration-color: #7f7f7f\">float32</span>[16,12,469,12… │                    │ bias: <span style=\"color: #7f7f7f; text-decoration-color: #7f7f7f\">float32</span>[128]   │\n",
       "│                       │                       │                    │ kernel:              │\n",
       "│                       │                       │                    │ <span style=\"color: #7f7f7f; text-decoration-color: #7f7f7f\">float32</span>[3,3,256,128] │\n",
       "│                       │                       │                    │                      │\n",
       "│                       │                       │                    │ <span style=\"font-weight: bold\">295,040 </span><span style=\"color: #7f7f7f; text-decoration-color: #7f7f7f; font-weight: bold\">(1.2 MB)</span>     │\n",
       "├───────────────────────┼───────────────────────┼────────────────────┼──────────────────────┤\n",
       "│ encoder/Conv_4        │ <span style=\"color: #7f7f7f; text-decoration-color: #7f7f7f\">float32</span>[16,12,469,64] │                    │ bias: <span style=\"color: #7f7f7f; text-decoration-color: #7f7f7f\">float32</span>[64]    │\n",
       "│                       │                       │                    │ kernel:              │\n",
       "│                       │                       │                    │ <span style=\"color: #7f7f7f; text-decoration-color: #7f7f7f\">float32</span>[3,3,128,64]  │\n",
       "│                       │                       │                    │                      │\n",
       "│                       │                       │                    │ <span style=\"font-weight: bold\">73,792 </span><span style=\"color: #7f7f7f; text-decoration-color: #7f7f7f; font-weight: bold\">(295.2 KB)</span>    │\n",
       "├───────────────────────┼───────────────────────┼────────────────────┼──────────────────────┤\n",
       "│ encoder/Conv_5        │ <span style=\"color: #7f7f7f; text-decoration-color: #7f7f7f\">float32</span>[16,12,469,32] │                    │ bias: <span style=\"color: #7f7f7f; text-decoration-color: #7f7f7f\">float32</span>[32]    │\n",
       "│                       │                       │                    │ kernel:              │\n",
       "│                       │                       │                    │ <span style=\"color: #7f7f7f; text-decoration-color: #7f7f7f\">float32</span>[3,3,64,32]   │\n",
       "│                       │                       │                    │                      │\n",
       "│                       │                       │                    │ <span style=\"font-weight: bold\">18,464 </span><span style=\"color: #7f7f7f; text-decoration-color: #7f7f7f; font-weight: bold\">(73.9 KB)</span>     │\n",
       "├───────────────────────┼───────────────────────┼────────────────────┼──────────────────────┤\n",
       "│ encoder/Conv_6        │ <span style=\"color: #7f7f7f; text-decoration-color: #7f7f7f\">float32</span>[16,12,469,16] │                    │ bias: <span style=\"color: #7f7f7f; text-decoration-color: #7f7f7f\">float32</span>[16]    │\n",
       "│                       │                       │                    │ kernel:              │\n",
       "│                       │                       │                    │ <span style=\"color: #7f7f7f; text-decoration-color: #7f7f7f\">float32</span>[3,3,32,16]   │\n",
       "│                       │                       │                    │                      │\n",
       "│                       │                       │                    │ <span style=\"font-weight: bold\">4,624 </span><span style=\"color: #7f7f7f; text-decoration-color: #7f7f7f; font-weight: bold\">(18.5 KB)</span>      │\n",
       "├───────────────────────┼───────────────────────┼────────────────────┼──────────────────────┤\n",
       "│ encoder/Conv_7        │ <span style=\"color: #7f7f7f; text-decoration-color: #7f7f7f\">float32</span>[16,12,469,1]  │                    │ bias: <span style=\"color: #7f7f7f; text-decoration-color: #7f7f7f\">float32</span>[1]     │\n",
       "│                       │                       │                    │ kernel:              │\n",
       "│                       │                       │                    │ <span style=\"color: #7f7f7f; text-decoration-color: #7f7f7f\">float32</span>[3,3,16,1]    │\n",
       "│                       │                       │                    │                      │\n",
       "│                       │                       │                    │ <span style=\"font-weight: bold\">145 </span><span style=\"color: #7f7f7f; text-decoration-color: #7f7f7f; font-weight: bold\">(580 B)</span>          │\n",
       "├───────────────────────┼───────────────────────┼────────────────────┼──────────────────────┤\n",
       "│ encoder/fc3_logvar    │ <span style=\"color: #7f7f7f; text-decoration-color: #7f7f7f\">float32</span>[16,512]       │                    │ bias: <span style=\"color: #7f7f7f; text-decoration-color: #7f7f7f\">float32</span>[512]   │\n",
       "│                       │                       │                    │ kernel:              │\n",
       "│                       │                       │                    │ <span style=\"color: #7f7f7f; text-decoration-color: #7f7f7f\">float32</span>[5628,512]    │\n",
       "│                       │                       │                    │                      │\n",
       "│                       │                       │                    │ <span style=\"font-weight: bold\">2,882,048 </span><span style=\"color: #7f7f7f; text-decoration-color: #7f7f7f; font-weight: bold\">(11.5 MB)</span>  │\n",
       "├───────────────────────┼───────────────────────┼────────────────────┼──────────────────────┤\n",
       "│ encoder/fc3_mean      │ <span style=\"color: #7f7f7f; text-decoration-color: #7f7f7f\">float32</span>[16,512]       │                    │ bias: <span style=\"color: #7f7f7f; text-decoration-color: #7f7f7f\">float32</span>[512]   │\n",
       "│                       │                       │                    │ kernel:              │\n",
       "│                       │                       │                    │ <span style=\"color: #7f7f7f; text-decoration-color: #7f7f7f\">float32</span>[5628,512]    │\n",
       "│                       │                       │                    │                      │\n",
       "│                       │                       │                    │ <span style=\"font-weight: bold\">2,882,048 </span><span style=\"color: #7f7f7f; text-decoration-color: #7f7f7f; font-weight: bold\">(11.5 MB)</span>  │\n",
       "├───────────────────────┼───────────────────────┼────────────────────┼──────────────────────┤\n",
       "│ encoder               │ - <span style=\"color: #7f7f7f; text-decoration-color: #7f7f7f\">float32</span>[16,512]     │                    │                      │\n",
       "│                       │ - <span style=\"color: #7f7f7f; text-decoration-color: #7f7f7f\">float32</span>[16,512]     │                    │                      │\n",
       "│                       │ - <span style=\"color: #7f7f7f; text-decoration-color: #7f7f7f\">float32</span>[16,512]     │                    │                      │\n",
       "├───────────────────────┼───────────────────────┼────────────────────┼──────────────────────┤\n",
       "│ Conv2d_VAE            │ - <span style=\"color: #7f7f7f; text-decoration-color: #7f7f7f\">float32</span>[16,48,1876] │                    │                      │\n",
       "│                       │ - <span style=\"color: #7f7f7f; text-decoration-color: #7f7f7f\">float32</span>[16,512]     │                    │                      │\n",
       "│                       │ - <span style=\"color: #7f7f7f; text-decoration-color: #7f7f7f\">float32</span>[16,512]     │                    │                      │\n",
       "├───────────────────────┼───────────────────────┼────────────────────┼──────────────────────┤\n",
       "│<span style=\"font-weight: bold\">                       </span>│<span style=\"font-weight: bold\">                 Total </span>│<span style=\"font-weight: bold\"> 3,490 </span><span style=\"color: #7f7f7f; text-decoration-color: #7f7f7f; font-weight: bold\">(14.0 KB)</span><span style=\"font-weight: bold\">    </span>│<span style=\"font-weight: bold\"> 12,981,792 </span><span style=\"color: #7f7f7f; text-decoration-color: #7f7f7f; font-weight: bold\">(51.9 MB)</span><span style=\"font-weight: bold\"> </span>│\n",
       "└───────────────────────┴───────────────────────┴────────────────────┴──────────────────────┘\n",
       "<span style=\"font-weight: bold\">                                                                                             </span>\n",
       "<span style=\"font-weight: bold\">                           Total Parameters: 12,985,282 </span><span style=\"color: #7f7f7f; text-decoration-color: #7f7f7f; font-weight: bold\">(51.9 MB)</span><span style=\"font-weight: bold\">                            </span>\n",
       "</pre>\n"
      ],
      "text/plain": [
       "\u001b[3m                                     Conv2d_VAE Summary                                      \u001b[0m\n",
       "┏━━━━━━━━━━━━━━━━━━━━━━━┳━━━━━━━━━━━━━━━━━━━━━━━┳━━━━━━━━━━━━━━━━━━━━┳━━━━━━━━━━━━━━━━━━━━━━┓\n",
       "┃\u001b[1m \u001b[0m\u001b[1mpath                 \u001b[0m\u001b[1m \u001b[0m┃\u001b[1m \u001b[0m\u001b[1moutputs              \u001b[0m\u001b[1m \u001b[0m┃\u001b[1m \u001b[0m\u001b[1mbatch_stats       \u001b[0m\u001b[1m \u001b[0m┃\u001b[1m \u001b[0m\u001b[1mparams              \u001b[0m\u001b[1m \u001b[0m┃\n",
       "┡━━━━━━━━━━━━━━━━━━━━━━━╇━━━━━━━━━━━━━━━━━━━━━━━╇━━━━━━━━━━━━━━━━━━━━╇━━━━━━━━━━━━━━━━━━━━━━┩\n",
       "│ Inputs                │ - \u001b[2mfloat32\u001b[0m[16,48,1876] │                    │                      │\n",
       "│                       │ - \u001b[2muint32\u001b[0m[2]           │                    │                      │\n",
       "├───────────────────────┼───────────────────────┼────────────────────┼──────────────────────┤\n",
       "│ decoder/BatchNorm_0   │ \u001b[2mfloat32\u001b[0m[16,12,469,32] │ mean: \u001b[2mfloat32\u001b[0m[32]  │ bias: \u001b[2mfloat32\u001b[0m[32]    │\n",
       "│                       │                       │ var: \u001b[2mfloat32\u001b[0m[32]   │ scale: \u001b[2mfloat32\u001b[0m[32]   │\n",
       "│                       │                       │                    │                      │\n",
       "│                       │                       │ \u001b[1m64 \u001b[0m\u001b[1;2m(256 B)\u001b[0m         │ \u001b[1m64 \u001b[0m\u001b[1;2m(256 B)\u001b[0m           │\n",
       "├───────────────────────┼───────────────────────┼────────────────────┼──────────────────────┤\n",
       "│ decoder/BatchNorm_1   │ \u001b[2mfloat32\u001b[0m[16,12,469,64] │ mean: \u001b[2mfloat32\u001b[0m[64]  │ bias: \u001b[2mfloat32\u001b[0m[64]    │\n",
       "│                       │                       │ var: \u001b[2mfloat32\u001b[0m[64]   │ scale: \u001b[2mfloat32\u001b[0m[64]   │\n",
       "│                       │                       │                    │                      │\n",
       "│                       │                       │ \u001b[1m128 \u001b[0m\u001b[1;2m(512 B)\u001b[0m        │ \u001b[1m128 \u001b[0m\u001b[1;2m(512 B)\u001b[0m          │\n",
       "├───────────────────────┼───────────────────────┼────────────────────┼──────────────────────┤\n",
       "│ decoder/BatchNorm_2   │ \u001b[2mfloat32\u001b[0m[16,24,938,12… │ mean: \u001b[2mfloat32\u001b[0m[128] │ bias: \u001b[2mfloat32\u001b[0m[128]   │\n",
       "│                       │                       │ var: \u001b[2mfloat32\u001b[0m[128]  │ scale: \u001b[2mfloat32\u001b[0m[128]  │\n",
       "│                       │                       │                    │                      │\n",
       "│                       │                       │ \u001b[1m256 \u001b[0m\u001b[1;2m(1.0 KB)\u001b[0m       │ \u001b[1m256 \u001b[0m\u001b[1;2m(1.0 KB)\u001b[0m         │\n",
       "├───────────────────────┼───────────────────────┼────────────────────┼──────────────────────┤\n",
       "│ decoder/ConvTranspos… │ \u001b[2mfloat32\u001b[0m[16,12,469,32] │                    │ bias: \u001b[2mfloat32\u001b[0m[32]    │\n",
       "│                       │                       │                    │ kernel:              │\n",
       "│                       │                       │                    │ \u001b[2mfloat32\u001b[0m[3,3,1,32]    │\n",
       "│                       │                       │                    │                      │\n",
       "│                       │                       │                    │ \u001b[1m320 \u001b[0m\u001b[1;2m(1.3 KB)\u001b[0m         │\n",
       "├───────────────────────┼───────────────────────┼────────────────────┼──────────────────────┤\n",
       "│ decoder/ConvTranspos… │ \u001b[2mfloat32\u001b[0m[16,12,469,64] │                    │ bias: \u001b[2mfloat32\u001b[0m[64]    │\n",
       "│                       │                       │                    │ kernel:              │\n",
       "│                       │                       │                    │ \u001b[2mfloat32\u001b[0m[3,3,32,64]   │\n",
       "│                       │                       │                    │                      │\n",
       "│                       │                       │                    │ \u001b[1m18,496 \u001b[0m\u001b[1;2m(74.0 KB)\u001b[0m     │\n",
       "├───────────────────────┼───────────────────────┼────────────────────┼──────────────────────┤\n",
       "│ decoder/ConvTranspos… │ \u001b[2mfloat32\u001b[0m[16,24,938,12… │                    │ bias: \u001b[2mfloat32\u001b[0m[128]   │\n",
       "│                       │                       │                    │ kernel:              │\n",
       "│                       │                       │                    │ \u001b[2mfloat32\u001b[0m[3,3,64,128]  │\n",
       "│                       │                       │                    │                      │\n",
       "│                       │                       │                    │ \u001b[1m73,856 \u001b[0m\u001b[1;2m(295.4 KB)\u001b[0m    │\n",
       "├───────────────────────┼───────────────────────┼────────────────────┼──────────────────────┤\n",
       "│ decoder/ConvTranspos… │ \u001b[2mfloat32\u001b[0m[16,48,1876,2… │                    │ bias: \u001b[2mfloat32\u001b[0m[256]   │\n",
       "│                       │                       │                    │ kernel:              │\n",
       "│                       │                       │                    │ \u001b[2mfloat32\u001b[0m[3,3,128,256] │\n",
       "│                       │                       │                    │                      │\n",
       "│                       │                       │                    │ \u001b[1m295,168 \u001b[0m\u001b[1;2m(1.2 MB)\u001b[0m     │\n",
       "├───────────────────────┼───────────────────────┼────────────────────┼──────────────────────┤\n",
       "│ decoder/ConvTranspos… │ \u001b[2mfloat32\u001b[0m[16,48,1876,1] │                    │ bias: \u001b[2mfloat32\u001b[0m[1]     │\n",
       "│                       │                       │                    │ kernel:              │\n",
       "│                       │                       │                    │ \u001b[2mfloat32\u001b[0m[3,3,256,1]   │\n",
       "│                       │                       │                    │                      │\n",
       "│                       │                       │                    │ \u001b[1m2,305 \u001b[0m\u001b[1;2m(9.2 KB)\u001b[0m       │\n",
       "├───────────────────────┼───────────────────────┼────────────────────┼──────────────────────┤\n",
       "│ decoder/Dense_0       │ \u001b[2mfloat32\u001b[0m[16,5628]      │                    │ bias: \u001b[2mfloat32\u001b[0m[5628]  │\n",
       "│                       │                       │                    │ kernel:              │\n",
       "│                       │                       │                    │ \u001b[2mfloat32\u001b[0m[512,5628]    │\n",
       "│                       │                       │                    │                      │\n",
       "│                       │                       │                    │ \u001b[1m2,887,164 \u001b[0m\u001b[1;2m(11.5 MB)\u001b[0m  │\n",
       "├───────────────────────┼───────────────────────┼────────────────────┼──────────────────────┤\n",
       "│ decoder               │ \u001b[2mfloat32\u001b[0m[16,48,1876]   │                    │                      │\n",
       "├───────────────────────┼───────────────────────┼────────────────────┼──────────────────────┤\n",
       "│ encoder/BatchNorm_0   │ \u001b[2mfloat32\u001b[0m[16,24,938,51… │ mean: \u001b[2mfloat32\u001b[0m[512] │ bias: \u001b[2mfloat32\u001b[0m[512]   │\n",
       "│                       │                       │ var: \u001b[2mfloat32\u001b[0m[512]  │ scale: \u001b[2mfloat32\u001b[0m[512]  │\n",
       "│                       │                       │                    │                      │\n",
       "│                       │                       │ \u001b[1m1,024 \u001b[0m\u001b[1;2m(4.1 KB)\u001b[0m     │ \u001b[1m1,024 \u001b[0m\u001b[1;2m(4.1 KB)\u001b[0m       │\n",
       "├───────────────────────┼───────────────────────┼────────────────────┼──────────────────────┤\n",
       "│ encoder/BatchNorm_1   │ \u001b[2mfloat32\u001b[0m[16,24,938,51… │ mean: \u001b[2mfloat32\u001b[0m[512] │ bias: \u001b[2mfloat32\u001b[0m[512]   │\n",
       "│                       │                       │ var: \u001b[2mfloat32\u001b[0m[512]  │ scale: \u001b[2mfloat32\u001b[0m[512]  │\n",
       "│                       │                       │                    │                      │\n",
       "│                       │                       │ \u001b[1m1,024 \u001b[0m\u001b[1;2m(4.1 KB)\u001b[0m     │ \u001b[1m1,024 \u001b[0m\u001b[1;2m(4.1 KB)\u001b[0m       │\n",
       "├───────────────────────┼───────────────────────┼────────────────────┼──────────────────────┤\n",
       "│ encoder/BatchNorm_2   │ \u001b[2mfloat32\u001b[0m[16,12,469,25… │ mean: \u001b[2mfloat32\u001b[0m[256] │ bias: \u001b[2mfloat32\u001b[0m[256]   │\n",
       "│                       │                       │ var: \u001b[2mfloat32\u001b[0m[256]  │ scale: \u001b[2mfloat32\u001b[0m[256]  │\n",
       "│                       │                       │                    │                      │\n",
       "│                       │                       │ \u001b[1m512 \u001b[0m\u001b[1;2m(2.0 KB)\u001b[0m       │ \u001b[1m512 \u001b[0m\u001b[1;2m(2.0 KB)\u001b[0m         │\n",
       "├───────────────────────┼───────────────────────┼────────────────────┼──────────────────────┤\n",
       "│ encoder/BatchNorm_3   │ \u001b[2mfloat32\u001b[0m[16,12,469,12… │ mean: \u001b[2mfloat32\u001b[0m[128] │ bias: \u001b[2mfloat32\u001b[0m[128]   │\n",
       "│                       │                       │ var: \u001b[2mfloat32\u001b[0m[128]  │ scale: \u001b[2mfloat32\u001b[0m[128]  │\n",
       "│                       │                       │                    │                      │\n",
       "│                       │                       │ \u001b[1m256 \u001b[0m\u001b[1;2m(1.0 KB)\u001b[0m       │ \u001b[1m256 \u001b[0m\u001b[1;2m(1.0 KB)\u001b[0m         │\n",
       "├───────────────────────┼───────────────────────┼────────────────────┼──────────────────────┤\n",
       "│ encoder/BatchNorm_4   │ \u001b[2mfloat32\u001b[0m[16,12,469,64] │ mean: \u001b[2mfloat32\u001b[0m[64]  │ bias: \u001b[2mfloat32\u001b[0m[64]    │\n",
       "│                       │                       │ var: \u001b[2mfloat32\u001b[0m[64]   │ scale: \u001b[2mfloat32\u001b[0m[64]   │\n",
       "│                       │                       │                    │                      │\n",
       "│                       │                       │ \u001b[1m128 \u001b[0m\u001b[1;2m(512 B)\u001b[0m        │ \u001b[1m128 \u001b[0m\u001b[1;2m(512 B)\u001b[0m          │\n",
       "├───────────────────────┼───────────────────────┼────────────────────┼──────────────────────┤\n",
       "│ encoder/BatchNorm_5   │ \u001b[2mfloat32\u001b[0m[16,12,469,32] │ mean: \u001b[2mfloat32\u001b[0m[32]  │ bias: \u001b[2mfloat32\u001b[0m[32]    │\n",
       "│                       │                       │ var: \u001b[2mfloat32\u001b[0m[32]   │ scale: \u001b[2mfloat32\u001b[0m[32]   │\n",
       "│                       │                       │                    │                      │\n",
       "│                       │                       │ \u001b[1m64 \u001b[0m\u001b[1;2m(256 B)\u001b[0m         │ \u001b[1m64 \u001b[0m\u001b[1;2m(256 B)\u001b[0m           │\n",
       "├───────────────────────┼───────────────────────┼────────────────────┼──────────────────────┤\n",
       "│ encoder/BatchNorm_6   │ \u001b[2mfloat32\u001b[0m[16,12,469,16] │ mean: \u001b[2mfloat32\u001b[0m[16]  │ bias: \u001b[2mfloat32\u001b[0m[16]    │\n",
       "│                       │                       │ var: \u001b[2mfloat32\u001b[0m[16]   │ scale: \u001b[2mfloat32\u001b[0m[16]   │\n",
       "│                       │                       │                    │                      │\n",
       "│                       │                       │ \u001b[1m32 \u001b[0m\u001b[1;2m(128 B)\u001b[0m         │ \u001b[1m32 \u001b[0m\u001b[1;2m(128 B)\u001b[0m           │\n",
       "├───────────────────────┼───────────────────────┼────────────────────┼──────────────────────┤\n",
       "│ encoder/BatchNorm_7   │ \u001b[2mfloat32\u001b[0m[16,12,469,1]  │ mean: \u001b[2mfloat32\u001b[0m[1]   │ bias: \u001b[2mfloat32\u001b[0m[1]     │\n",
       "│                       │                       │ var: \u001b[2mfloat32\u001b[0m[1]    │ scale: \u001b[2mfloat32\u001b[0m[1]    │\n",
       "│                       │                       │                    │                      │\n",
       "│                       │                       │ \u001b[1m2 \u001b[0m\u001b[1;2m(8 B)\u001b[0m            │ \u001b[1m2 \u001b[0m\u001b[1;2m(8 B)\u001b[0m              │\n",
       "├───────────────────────┼───────────────────────┼────────────────────┼──────────────────────┤\n",
       "│ encoder/Conv_0        │ \u001b[2mfloat32\u001b[0m[16,24,938,51… │                    │ bias: \u001b[2mfloat32\u001b[0m[512]   │\n",
       "│                       │                       │                    │ kernel:              │\n",
       "│                       │                       │                    │ \u001b[2mfloat32\u001b[0m[3,3,1,512]   │\n",
       "│                       │                       │                    │                      │\n",
       "│                       │                       │                    │ \u001b[1m5,120 \u001b[0m\u001b[1;2m(20.5 KB)\u001b[0m      │\n",
       "├───────────────────────┼───────────────────────┼────────────────────┼──────────────────────┤\n",
       "│ encoder/Conv_1        │ \u001b[2mfloat32\u001b[0m[16,24,938,51… │                    │ bias: \u001b[2mfloat32\u001b[0m[512]   │\n",
       "│                       │                       │                    │ kernel:              │\n",
       "│                       │                       │                    │ \u001b[2mfloat32\u001b[0m[3,3,512,512] │\n",
       "│                       │                       │                    │                      │\n",
       "│                       │                       │                    │ \u001b[1m2,359,808 \u001b[0m\u001b[1;2m(9.4 MB)\u001b[0m   │\n",
       "├───────────────────────┼───────────────────────┼────────────────────┼──────────────────────┤\n",
       "│ encoder/Conv_2        │ \u001b[2mfloat32\u001b[0m[16,12,469,25… │                    │ bias: \u001b[2mfloat32\u001b[0m[256]   │\n",
       "│                       │                       │                    │ kernel:              │\n",
       "│                       │                       │                    │ \u001b[2mfloat32\u001b[0m[3,3,512,256] │\n",
       "│                       │                       │                    │                      │\n",
       "│                       │                       │                    │ \u001b[1m1,179,904 \u001b[0m\u001b[1;2m(4.7 MB)\u001b[0m   │\n",
       "├───────────────────────┼───────────────────────┼────────────────────┼──────────────────────┤\n",
       "│ encoder/Conv_3        │ \u001b[2mfloat32\u001b[0m[16,12,469,12… │                    │ bias: \u001b[2mfloat32\u001b[0m[128]   │\n",
       "│                       │                       │                    │ kernel:              │\n",
       "│                       │                       │                    │ \u001b[2mfloat32\u001b[0m[3,3,256,128] │\n",
       "│                       │                       │                    │                      │\n",
       "│                       │                       │                    │ \u001b[1m295,040 \u001b[0m\u001b[1;2m(1.2 MB)\u001b[0m     │\n",
       "├───────────────────────┼───────────────────────┼────────────────────┼──────────────────────┤\n",
       "│ encoder/Conv_4        │ \u001b[2mfloat32\u001b[0m[16,12,469,64] │                    │ bias: \u001b[2mfloat32\u001b[0m[64]    │\n",
       "│                       │                       │                    │ kernel:              │\n",
       "│                       │                       │                    │ \u001b[2mfloat32\u001b[0m[3,3,128,64]  │\n",
       "│                       │                       │                    │                      │\n",
       "│                       │                       │                    │ \u001b[1m73,792 \u001b[0m\u001b[1;2m(295.2 KB)\u001b[0m    │\n",
       "├───────────────────────┼───────────────────────┼────────────────────┼──────────────────────┤\n",
       "│ encoder/Conv_5        │ \u001b[2mfloat32\u001b[0m[16,12,469,32] │                    │ bias: \u001b[2mfloat32\u001b[0m[32]    │\n",
       "│                       │                       │                    │ kernel:              │\n",
       "│                       │                       │                    │ \u001b[2mfloat32\u001b[0m[3,3,64,32]   │\n",
       "│                       │                       │                    │                      │\n",
       "│                       │                       │                    │ \u001b[1m18,464 \u001b[0m\u001b[1;2m(73.9 KB)\u001b[0m     │\n",
       "├───────────────────────┼───────────────────────┼────────────────────┼──────────────────────┤\n",
       "│ encoder/Conv_6        │ \u001b[2mfloat32\u001b[0m[16,12,469,16] │                    │ bias: \u001b[2mfloat32\u001b[0m[16]    │\n",
       "│                       │                       │                    │ kernel:              │\n",
       "│                       │                       │                    │ \u001b[2mfloat32\u001b[0m[3,3,32,16]   │\n",
       "│                       │                       │                    │                      │\n",
       "│                       │                       │                    │ \u001b[1m4,624 \u001b[0m\u001b[1;2m(18.5 KB)\u001b[0m      │\n",
       "├───────────────────────┼───────────────────────┼────────────────────┼──────────────────────┤\n",
       "│ encoder/Conv_7        │ \u001b[2mfloat32\u001b[0m[16,12,469,1]  │                    │ bias: \u001b[2mfloat32\u001b[0m[1]     │\n",
       "│                       │                       │                    │ kernel:              │\n",
       "│                       │                       │                    │ \u001b[2mfloat32\u001b[0m[3,3,16,1]    │\n",
       "│                       │                       │                    │                      │\n",
       "│                       │                       │                    │ \u001b[1m145 \u001b[0m\u001b[1;2m(580 B)\u001b[0m          │\n",
       "├───────────────────────┼───────────────────────┼────────────────────┼──────────────────────┤\n",
       "│ encoder/fc3_logvar    │ \u001b[2mfloat32\u001b[0m[16,512]       │                    │ bias: \u001b[2mfloat32\u001b[0m[512]   │\n",
       "│                       │                       │                    │ kernel:              │\n",
       "│                       │                       │                    │ \u001b[2mfloat32\u001b[0m[5628,512]    │\n",
       "│                       │                       │                    │                      │\n",
       "│                       │                       │                    │ \u001b[1m2,882,048 \u001b[0m\u001b[1;2m(11.5 MB)\u001b[0m  │\n",
       "├───────────────────────┼───────────────────────┼────────────────────┼──────────────────────┤\n",
       "│ encoder/fc3_mean      │ \u001b[2mfloat32\u001b[0m[16,512]       │                    │ bias: \u001b[2mfloat32\u001b[0m[512]   │\n",
       "│                       │                       │                    │ kernel:              │\n",
       "│                       │                       │                    │ \u001b[2mfloat32\u001b[0m[5628,512]    │\n",
       "│                       │                       │                    │                      │\n",
       "│                       │                       │                    │ \u001b[1m2,882,048 \u001b[0m\u001b[1;2m(11.5 MB)\u001b[0m  │\n",
       "├───────────────────────┼───────────────────────┼────────────────────┼──────────────────────┤\n",
       "│ encoder               │ - \u001b[2mfloat32\u001b[0m[16,512]     │                    │                      │\n",
       "│                       │ - \u001b[2mfloat32\u001b[0m[16,512]     │                    │                      │\n",
       "│                       │ - \u001b[2mfloat32\u001b[0m[16,512]     │                    │                      │\n",
       "├───────────────────────┼───────────────────────┼────────────────────┼──────────────────────┤\n",
       "│ Conv2d_VAE            │ - \u001b[2mfloat32\u001b[0m[16,48,1876] │                    │                      │\n",
       "│                       │ - \u001b[2mfloat32\u001b[0m[16,512]     │                    │                      │\n",
       "│                       │ - \u001b[2mfloat32\u001b[0m[16,512]     │                    │                      │\n",
       "├───────────────────────┼───────────────────────┼────────────────────┼──────────────────────┤\n",
       "│\u001b[1m \u001b[0m\u001b[1m                     \u001b[0m\u001b[1m \u001b[0m│\u001b[1m \u001b[0m\u001b[1m                Total\u001b[0m\u001b[1m \u001b[0m│\u001b[1m \u001b[0m\u001b[1m3,490 \u001b[0m\u001b[1;2m(14.0 KB)\u001b[0m\u001b[1m   \u001b[0m\u001b[1m \u001b[0m│\u001b[1m \u001b[0m\u001b[1m12,981,792 \u001b[0m\u001b[1;2m(51.9 MB)\u001b[0m\u001b[1m \u001b[0m│\n",
       "└───────────────────────┴───────────────────────┴────────────────────┴──────────────────────┘\n",
       "\u001b[1m                                                                                             \u001b[0m\n",
       "\u001b[1m                           Total Parameters: 12,985,282 \u001b[0m\u001b[1;2m(51.9 MB)\u001b[0m\u001b[1m                            \u001b[0m\n"
      ]
     },
     "metadata": {},
     "output_type": "display_data"
    },
    {
     "name": "stdout",
     "output_type": "stream",
     "text": [
      "\n",
      "\n",
      "\n",
      "Initializing model....\n",
      "Initialize complete!!\n",
      "\n"
     ]
    }
   ],
   "source": [
    "\n",
    "print('Data load complete!\\n')\n",
    "print(nn.tabulate(model, rngs={'params': rng})(next(iter(train_dataloader))[0], rng))\n",
    "\n",
    "\n",
    "\n",
    "# ---initializing model---\n",
    "print(\"Initializing model....\")\n",
    "state = init_state(model, \n",
    "                   next(iter(train_dataloader))[0].shape, \n",
    "                   rng, \n",
    "                   lr)\n",
    "\n",
    "print(\"Initialize complete!!\\n\")\n",
    "\n"
   ]
  },
  {
   "cell_type": "code",
   "execution_count": 9,
   "id": "8487541b-95aa-42a2-9c8a-6444609bb300",
   "metadata": {},
   "outputs": [
    {
     "name": "stdout",
     "output_type": "stream",
     "text": [
      "Pre train complete!\n",
      "\n",
      "\n",
      "\n"
     ]
    }
   ],
   "source": [
    "# ---train model---\n",
    "\n",
    "\n",
    "train_data = iter(train_dataloader)\n",
    "test_data = iter(test_dataloader)\n",
    "\n",
    "train_loss_mean = 0\n",
    "test_loss_mean = 0\n",
    "\n",
    "\n",
    "\n",
    "rng, key = jax.random.split(rng)\n",
    "x, y = next(train_data)\n",
    "test_x, test_y = next(test_data)\n",
    "\n",
    "x = (x + 100) \n",
    "test_x = (test_x + 100)\n",
    "\n",
    "state, train_loss = train_step(state, x, rng)           \n",
    "recon_x, test_loss, mse_loss, kld_loss = eval_step(state, test_x, rng)\n",
    "\n",
    "\n",
    "\n",
    "print('Pre train complete!\\n\\n\\n')\n",
    "\n",
    "\n"
   ]
  },
  {
   "cell_type": "code",
   "execution_count": 11,
   "id": "3d0166c5-7db0-47fb-b489-cae8f7e8178b",
   "metadata": {},
   "outputs": [
    {
     "data": {
      "text/plain": [
       "(4, 48, 1876)"
      ]
     },
     "execution_count": 11,
     "metadata": {},
     "output_type": "execute_result"
    }
   ],
   "source": [
    "recon_x.shape"
   ]
  },
  {
   "cell_type": "code",
   "execution_count": 14,
   "id": "e4a30f05-02b7-4661-9813-38309675000b",
   "metadata": {},
   "outputs": [],
   "source": [
    "def linear_init_state(model, x_shape, key, lr) -> train_state.TrainState:\n",
    "    params = model.init({'params': key}, jnp.ones(x_shape))\n",
    "    optimizer = optax.adam(learning_rate=lr)\n",
    "    return train_state.TrainState.create(\n",
    "        apply_fn=model.apply,\n",
    "        tx=optimizer,\n",
    "        params=params)\n"
   ]
  },
  {
   "cell_type": "code",
   "execution_count": 15,
   "id": "c032e76e-6b15-4ecd-9a93-bee823753ac5",
   "metadata": {},
   "outputs": [],
   "source": [
    "linear_state = linear_init_state(linear_evaluation(), (16, 512), rng, lr)"
   ]
  },
  {
   "cell_type": "code",
   "execution_count": 13,
   "id": "6312dea8-f59f-4731-8904-cd55af5d1c95",
   "metadata": {},
   "outputs": [],
   "source": [
    "enc_state = state.params['params']['encoder']\n",
    "enc_batch = state.params['batch_stats']['encoder']"
   ]
  },
  {
   "cell_type": "code",
   "execution_count": 19,
   "id": "ea58d7a5-f110-4ace-8589-b4ace472371d",
   "metadata": {},
   "outputs": [],
   "source": [
    "latent, mean, logvar = Encoder().apply({'params':enc_state, 'batch_stats':enc_batch}, x, rng)"
   ]
  },
  {
   "cell_type": "code",
   "execution_count": 20,
   "id": "d7dc0a8f-0a0d-40f5-81b6-4300d4360221",
   "metadata": {},
   "outputs": [
    {
     "data": {
      "text/plain": [
       "(16, 512)"
      ]
     },
     "execution_count": 20,
     "metadata": {},
     "output_type": "execute_result"
    }
   ],
   "source": [
    "latent.shape"
   ]
  },
  {
   "cell_type": "code",
   "execution_count": 21,
   "id": "75d42185-da87-4108-862f-08e92a681dc5",
   "metadata": {},
   "outputs": [],
   "source": [
    "logits = linear_evaluation().apply(linear_state.params, latent)"
   ]
  },
  {
   "cell_type": "code",
   "execution_count": 24,
   "id": "746fc58b-788f-4093-992e-670f2efd72cd",
   "metadata": {},
   "outputs": [
    {
     "data": {
      "text/plain": [
       "(16, 30)"
      ]
     },
     "execution_count": 24,
     "metadata": {},
     "output_type": "execute_result"
    }
   ],
   "source": [
    "y.shape"
   ]
  },
  {
   "cell_type": "code",
   "execution_count": 23,
   "id": "a9fc2e45-5cac-47dc-80b5-cc89d0cfac39",
   "metadata": {},
   "outputs": [
    {
     "data": {
      "text/plain": [
       "(16, 30)"
      ]
     },
     "execution_count": 23,
     "metadata": {},
     "output_type": "execute_result"
    }
   ],
   "source": [
    "logits.shape"
   ]
  },
  {
   "cell_type": "code",
   "execution_count": 25,
   "id": "096ab32f-ca5c-4cca-8bb1-e4b07472b0a9",
   "metadata": {},
   "outputs": [],
   "source": [
    "loss = jnp.mean(optax.softmax_cross_entropy(logits, y))"
   ]
  },
  {
   "cell_type": "code",
   "execution_count": 26,
   "id": "807659f8-7afd-4901-a5c4-35c744ba73d0",
   "metadata": {},
   "outputs": [
    {
     "data": {
      "text/plain": [
       "DeviceArray(3.823896, dtype=float32)"
      ]
     },
     "execution_count": 26,
     "metadata": {},
     "output_type": "execute_result"
    }
   ],
   "source": [
    "loss"
   ]
  },
  {
   "cell_type": "code",
   "execution_count": 33,
   "id": "b42e069e-7033-433e-bad8-88018ad622ca",
   "metadata": {},
   "outputs": [],
   "source": [
    "@jax.jit\n",
    "def linear_train_step(enc_state, \n",
    "                      enc_batch, \n",
    "                      linear_state, \n",
    "                      x, y, rng):    \n",
    "    \n",
    "    latent, mean, logvar = Encoder().apply({'params':enc_state, 'batch_stats':enc_batch}, x, rng)\n",
    "    \n",
    "    def loss_fn(params):\n",
    "        logits = linear_evaluation().apply(params, latent)\n",
    "        loss = jnp.mean(optax.softmax_cross_entropy(logits, y))\n",
    "        return loss, logits\n",
    "    \n",
    "    grad_fn = jax.value_and_grad(loss_fn, has_aux=True)\n",
    "    (loss, logits), grads = grad_fn(linear_state.params)\n",
    "    accuracy = jnp.mean(jnp.argmax(logits, -1) == jnp.argmax(y, -1))\n",
    "    \n",
    "    return linear_state.apply_gradients(grads=grads), loss\n"
   ]
  },
  {
   "cell_type": "code",
   "execution_count": 34,
   "id": "08d9bb54-a3f0-46d2-8d43-3dd8b24ab100",
   "metadata": {},
   "outputs": [],
   "source": [
    "linear_state, loss = linear_train_step(enc_state, enc_batch, linear_state, x, y, rng)"
   ]
  },
  {
   "cell_type": "code",
   "execution_count": 37,
   "id": "2980d891-dab4-4542-9f99-fdf3f5099b3d",
   "metadata": {},
   "outputs": [
    {
     "data": {
      "text/plain": [
       "DeviceArray(3.8246925, dtype=float32)"
      ]
     },
     "execution_count": 37,
     "metadata": {},
     "output_type": "execute_result"
    }
   ],
   "source": [
    "loss"
   ]
  },
  {
   "cell_type": "code",
   "execution_count": null,
   "id": "afa12117-19cf-46dd-866e-2f97151c5f62",
   "metadata": {},
   "outputs": [],
   "source": []
  }
 ],
 "metadata": {
  "kernelspec": {
   "display_name": "Python 3 (ipykernel)",
   "language": "python",
   "name": "python3"
  },
  "language_info": {
   "codemirror_mode": {
    "name": "ipython",
    "version": 3
   },
   "file_extension": ".py",
   "mimetype": "text/x-python",
   "name": "python",
   "nbconvert_exporter": "python",
   "pygments_lexer": "ipython3",
   "version": "3.8.10"
  }
 },
 "nbformat": 4,
 "nbformat_minor": 5
}
