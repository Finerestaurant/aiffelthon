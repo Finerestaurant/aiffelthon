{
 "cells": [
  {
   "cell_type": "code",
   "execution_count": 9,
   "id": "6b483f90-5d66-40a7-88b9-967b2711f32d",
   "metadata": {},
   "outputs": [
    {
     "name": "stdout",
     "output_type": "stream",
     "text": [
      "[TpuDevice(id=0, process_index=0, coords=(0,0,0), core_on_chip=0), TpuDevice(id=1, process_index=0, coords=(0,0,0), core_on_chip=1), TpuDevice(id=2, process_index=0, coords=(1,0,0), core_on_chip=0), TpuDevice(id=3, process_index=0, coords=(1,0,0), core_on_chip=1), TpuDevice(id=4, process_index=0, coords=(0,1,0), core_on_chip=0), TpuDevice(id=5, process_index=0, coords=(0,1,0), core_on_chip=1), TpuDevice(id=6, process_index=0, coords=(1,1,0), core_on_chip=0), TpuDevice(id=7, process_index=0, coords=(1,1,0), core_on_chip=1)]\n"
     ]
    }
   ],
   "source": [
    "from dataloader import mel_dataset\n",
    "from torch.utils.data import DataLoader\n",
    "from CVAE import CVAE\n",
    "\n",
    "import flax \n",
    "import flax.linen as nn\n",
    "from flax.training import train_state\n",
    "\n",
    "import jax\n",
    "import numpy as np\n",
    "import jax.numpy as jnp\n",
    "import optax\n",
    "from tqdm import tqdm\n",
    "\n",
    "print(jax.local_devices())\n",
    "\n",
    "def collate_batch(batch):\n",
    "    x_train = [x for x, _ in batch]\n",
    "    y_train = [y for _, y in batch]                  \n",
    "        \n",
    "    return np.array(x_train), np.array(y_train)\n",
    "\n",
    "\n",
    "def init_state(model, x_shape, y_shape, key, lr) -> train_state.TrainState:\n",
    "    params = model.init({'params': key}, jnp.ones(x_shape), jnp.ones(y_shape), key)\n",
    "    # Create the optimizer\n",
    "    optimizer = optax.adam(learning_rate=lr)\n",
    "    # Create a State\n",
    "    return train_state.TrainState.create(\n",
    "        apply_fn=model.apply,\n",
    "        tx=optimizer,\n",
    "        params=params)\n",
    "\n",
    "@jax.vmap\n",
    "def kl_divergence(mean, logvar):\n",
    "    return -0.5 * jnp.sum(1 + logvar - jnp.square(mean) - jnp.exp(logvar))\n",
    "\n",
    "\n",
    "@jax.vmap\n",
    "def binary_cross_entropy_with_logits(logits, labels):\n",
    "    logits = nn.log_sigmoid(logits)\n",
    "    return -jnp.sum(labels * logits + (1. - labels) * jnp.log(-jnp.expm1(logits)))\n",
    "\n"
   ]
  },
  {
   "cell_type": "code",
   "execution_count": 4,
   "id": "9b82e6c6-de35-426b-9c99-f9df3d076155",
   "metadata": {},
   "outputs": [
    {
     "name": "stdout",
     "output_type": "stream",
     "text": [
      "Loading dataset...\n",
      "Loaded data : 46690\n",
      "batch_size = 128\n",
      "learning rate = 0.0001\n",
      "Data load complete!\n",
      "\n"
     ]
    }
   ],
   "source": [
    "batch_size = 128\n",
    "lr = 0.0001\n",
    "rng = jax.random.PRNGKey(303)\n",
    "\n",
    "# ---Load dataset---\n",
    "print(\"Loading dataset...\")\n",
    "dataset_dir = '/home/anthonypark6904/dataset'\n",
    "data = mel_dataset(dataset_dir)\n",
    "print(f'Loaded data : {len(data)}')\n",
    "train_dataloader = DataLoader(data, batch_size=batch_size, shuffle=True, num_workers=0, collate_fn=collate_batch)\n",
    "print(f'batch_size = {batch_size}')\n",
    "print(f'learning rate = {lr}')\n",
    "\n",
    "print('Data load complete!\\n')\n"
   ]
  },
  {
   "cell_type": "code",
   "execution_count": 10,
   "id": "114ce4a4-0ab9-4789-9ebd-45e02eb61de0",
   "metadata": {},
   "outputs": [
    {
     "name": "stdout",
     "output_type": "stream",
     "text": [
      "Initializing model....\n"
     ]
    }
   ],
   "source": [
    "\n",
    "# ---initializing model---\n",
    "model = CVAE()\n",
    "print(\"Initializing model....\")\n",
    "state = init_state(model, \n",
    "                   next(iter(train_dataloader))[0].shape, \n",
    "                   next(iter(train_dataloader))[1].shape,\n",
    "                   rng, \n",
    "                   lr)\n"
   ]
  },
  {
   "cell_type": "code",
   "execution_count": 6,
   "id": "5cc14d99-8779-446f-9d34-1ab3be858e48",
   "metadata": {},
   "outputs": [],
   "source": [
    "\n",
    "\n",
    "@jax.jit\n",
    "def train_step(state, x, y, z_rng):\n",
    "    \n",
    "    def loss_fn(params):\n",
    "        recon_x, mean, logvar = CVAE().apply({'params': params['params']}, x, y , z_rng)\n",
    "\n",
    "        bce_loss = binary_cross_entropy_with_logits(recon_x, x.reshape(x.shape[0], x.shape[1]*x.shape[2])).mean()\n",
    "        \n",
    "        kld_loss = kl_divergence(mean, logvar).mean()\n",
    "        \n",
    "        loss = bce_loss + kld_loss\n",
    "        return loss\n",
    "    \n",
    "    grad_fn = jax.value_and_grad(loss_fn)\n",
    "    loss, grads = grad_fn(state.params)\n",
    "    \n",
    "    return state.apply_gradients(grads=grads), loss"
   ]
  },
  {
   "cell_type": "code",
   "execution_count": 7,
   "id": "4ba3e82f-1918-44d6-b991-cea35527b6cd",
   "metadata": {},
   "outputs": [],
   "source": [
    "train_data = iter(train_dataloader)"
   ]
  },
  {
   "cell_type": "code",
   "execution_count": 7,
   "id": "c659659a-49f7-4a00-80dd-a82b517b28b6",
   "metadata": {},
   "outputs": [
    {
     "data": {
      "text/plain": [
       "frozen_dict_keys(['params'])"
      ]
     },
     "execution_count": 7,
     "metadata": {},
     "output_type": "execute_result"
    }
   ],
   "source": [
    "state.params.keys()"
   ]
  },
  {
   "cell_type": "code",
   "execution_count": 15,
   "id": "41b76816-a583-425d-b655-40c961180f73",
   "metadata": {},
   "outputs": [],
   "source": [
    "from sklearn.preprocessing import MinMaxScaler\n"
   ]
  },
  {
   "cell_type": "code",
   "execution_count": 16,
   "id": "a0a09c77-74c2-40c1-a90e-50d58c899ae5",
   "metadata": {},
   "outputs": [],
   "source": [
    "scaler = MinMaxScaler()"
   ]
  },
  {
   "cell_type": "code",
   "execution_count": 35,
   "id": "e141deb4-9b3b-4594-b1e6-d0728b8399b2",
   "metadata": {},
   "outputs": [
    {
     "data": {
      "text/plain": [
       "(128, 48, 1876)"
      ]
     },
     "execution_count": 35,
     "metadata": {},
     "output_type": "execute_result"
    }
   ],
   "source": [
    "x.shape"
   ]
  },
  {
   "cell_type": "code",
   "execution_count": 36,
   "id": "bc26188d-ae52-4886-be70-5e1a96b4b54f",
   "metadata": {},
   "outputs": [
    {
     "data": {
      "text/html": [
       "<style>#sk-container-id-3 {color: black;background-color: white;}#sk-container-id-3 pre{padding: 0;}#sk-container-id-3 div.sk-toggleable {background-color: white;}#sk-container-id-3 label.sk-toggleable__label {cursor: pointer;display: block;width: 100%;margin-bottom: 0;padding: 0.3em;box-sizing: border-box;text-align: center;}#sk-container-id-3 label.sk-toggleable__label-arrow:before {content: \"▸\";float: left;margin-right: 0.25em;color: #696969;}#sk-container-id-3 label.sk-toggleable__label-arrow:hover:before {color: black;}#sk-container-id-3 div.sk-estimator:hover label.sk-toggleable__label-arrow:before {color: black;}#sk-container-id-3 div.sk-toggleable__content {max-height: 0;max-width: 0;overflow: hidden;text-align: left;background-color: #f0f8ff;}#sk-container-id-3 div.sk-toggleable__content pre {margin: 0.2em;color: black;border-radius: 0.25em;background-color: #f0f8ff;}#sk-container-id-3 input.sk-toggleable__control:checked~div.sk-toggleable__content {max-height: 200px;max-width: 100%;overflow: auto;}#sk-container-id-3 input.sk-toggleable__control:checked~label.sk-toggleable__label-arrow:before {content: \"▾\";}#sk-container-id-3 div.sk-estimator input.sk-toggleable__control:checked~label.sk-toggleable__label {background-color: #d4ebff;}#sk-container-id-3 div.sk-label input.sk-toggleable__control:checked~label.sk-toggleable__label {background-color: #d4ebff;}#sk-container-id-3 input.sk-hidden--visually {border: 0;clip: rect(1px 1px 1px 1px);clip: rect(1px, 1px, 1px, 1px);height: 1px;margin: -1px;overflow: hidden;padding: 0;position: absolute;width: 1px;}#sk-container-id-3 div.sk-estimator {font-family: monospace;background-color: #f0f8ff;border: 1px dotted black;border-radius: 0.25em;box-sizing: border-box;margin-bottom: 0.5em;}#sk-container-id-3 div.sk-estimator:hover {background-color: #d4ebff;}#sk-container-id-3 div.sk-parallel-item::after {content: \"\";width: 100%;border-bottom: 1px solid gray;flex-grow: 1;}#sk-container-id-3 div.sk-label:hover label.sk-toggleable__label {background-color: #d4ebff;}#sk-container-id-3 div.sk-serial::before {content: \"\";position: absolute;border-left: 1px solid gray;box-sizing: border-box;top: 0;bottom: 0;left: 50%;z-index: 0;}#sk-container-id-3 div.sk-serial {display: flex;flex-direction: column;align-items: center;background-color: white;padding-right: 0.2em;padding-left: 0.2em;position: relative;}#sk-container-id-3 div.sk-item {position: relative;z-index: 1;}#sk-container-id-3 div.sk-parallel {display: flex;align-items: stretch;justify-content: center;background-color: white;position: relative;}#sk-container-id-3 div.sk-item::before, #sk-container-id-3 div.sk-parallel-item::before {content: \"\";position: absolute;border-left: 1px solid gray;box-sizing: border-box;top: 0;bottom: 0;left: 50%;z-index: -1;}#sk-container-id-3 div.sk-parallel-item {display: flex;flex-direction: column;z-index: 1;position: relative;background-color: white;}#sk-container-id-3 div.sk-parallel-item:first-child::after {align-self: flex-end;width: 50%;}#sk-container-id-3 div.sk-parallel-item:last-child::after {align-self: flex-start;width: 50%;}#sk-container-id-3 div.sk-parallel-item:only-child::after {width: 0;}#sk-container-id-3 div.sk-dashed-wrapped {border: 1px dashed gray;margin: 0 0.4em 0.5em 0.4em;box-sizing: border-box;padding-bottom: 0.4em;background-color: white;}#sk-container-id-3 div.sk-label label {font-family: monospace;font-weight: bold;display: inline-block;line-height: 1.2em;}#sk-container-id-3 div.sk-label-container {text-align: center;}#sk-container-id-3 div.sk-container {/* jupyter's `normalize.less` sets `[hidden] { display: none; }` but bootstrap.min.css set `[hidden] { display: none !important; }` so we also need the `!important` here to be able to override the default hidden behavior on the sphinx rendered scikit-learn.org. See: https://github.com/scikit-learn/scikit-learn/issues/21755 */display: inline-block !important;position: relative;}#sk-container-id-3 div.sk-text-repr-fallback {display: none;}</style><div id=\"sk-container-id-3\" class=\"sk-top-container\"><div class=\"sk-text-repr-fallback\"><pre>MinMaxScaler()</pre><b>In a Jupyter environment, please rerun this cell to show the HTML representation or trust the notebook. <br />On GitHub, the HTML representation is unable to render, please try loading this page with nbviewer.org.</b></div><div class=\"sk-container\" hidden><div class=\"sk-item\"><div class=\"sk-estimator sk-toggleable\"><input class=\"sk-toggleable__control sk-hidden--visually\" id=\"sk-estimator-id-3\" type=\"checkbox\" checked><label for=\"sk-estimator-id-3\" class=\"sk-toggleable__label sk-toggleable__label-arrow\">MinMaxScaler</label><div class=\"sk-toggleable__content\"><pre>MinMaxScaler()</pre></div></div></div></div></div>"
      ],
      "text/plain": [
       "MinMaxScaler()"
      ]
     },
     "execution_count": 36,
     "metadata": {},
     "output_type": "execute_result"
    }
   ],
   "source": [
    "scaler.fit(x.reshape(x.shape[0], x.shape[1]*x.shape[2]))"
   ]
  },
  {
   "cell_type": "code",
   "execution_count": 40,
   "id": "e8be3bba-21b8-4fc7-90e2-73140dfcdf6c",
   "metadata": {},
   "outputs": [],
   "source": [
    "import matplotlib.pyplot as plt"
   ]
  },
  {
   "cell_type": "code",
   "execution_count": 44,
   "id": "a998389e-57bc-4269-82c9-ac4985751ea9",
   "metadata": {},
   "outputs": [],
   "source": [
    "a = scaler.transform(x.reshape(x.shape[0], x.shape[1]*x.shape[2]))"
   ]
  },
  {
   "cell_type": "code",
   "execution_count": 45,
   "id": "46d9e96b-0abf-4855-b666-ec51ae832ebd",
   "metadata": {},
   "outputs": [
    {
     "data": {
      "text/plain": [
       "<matplotlib.image.AxesImage at 0x7fd17cf5f7c0>"
      ]
     },
     "execution_count": 45,
     "metadata": {},
     "output_type": "execute_result"
    },
    {
     "data": {
      "image/png": "[encoded data removed]",
      "text/plain": [
       "<Figure size 640x480 with 1 Axes>"
      ]
     },
     "metadata": {},
     "output_type": "display_data"
    }
   ],
   "source": [
    "plt.imshow(a.reshape((x.shape[0], x.shape[1], x.shape[2]))[0])"
   ]
  },
  {
   "cell_type": "markdown",
   "id": "9e5f8da9-3fea-44cd-b7bc-fe1e499c2fbc",
   "metadata": {},
   "source": [
    "$\\log(M)=\\log(|X|)=\\log(|\\text{stft}(x)|)$의 크기를 특정 구간으로 노멀라이즈합니다. 상황에 따라 $[0, 80]$, $[0, 120]$, $[-120, 0]$, $[-1, 1]$"
   ]
  },
  {
   "cell_type": "code",
   "execution_count": 24,
   "id": "08062376-1960-46ee-a363-5b91859130eb",
   "metadata": {},
   "outputs": [
    {
     "data": {
      "text/plain": [
       "(1876,)"
      ]
     },
     "execution_count": 31,
     "metadata": {},
     "output_type": "execute_result"
    }
   ],
   "source": [
    "scaler.data_min_.shape"
   ]
  },
  {
   "cell_type": "code",
   "execution_count": 13,
   "id": "b245b2f6-a60f-467b-a21a-63ac3000026c",
   "metadata": {},
   "outputs": [],
   "source": [
    "rng, key = jax.random.split(rng)\n",
    "x, y = next(train_data)"
   ]
  },
  {
   "cell_type": "code",
   "execution_count": 9,
   "id": "20eeab28-d54a-47fc-aadb-438811494a75",
   "metadata": {},
   "outputs": [],
   "source": [
    "recon_x, mean, logvar = CVAE().apply({'params': state.params['params']}, x, y , rng)\n"
   ]
  },
  {
   "cell_type": "code",
   "execution_count": 50,
   "id": "7f847ced-a503-4626-b77e-ff70de8fbf47",
   "metadata": {},
   "outputs": [
    {
     "data": {
      "text/plain": [
       "(128, 48, 1876)"
      ]
     },
     "execution_count": 50,
     "metadata": {},
     "output_type": "execute_result"
    }
   ],
   "source": [
    "x.shape"
   ]
  },
  {
   "cell_type": "code",
   "execution_count": 53,
   "id": "b9384773-2067-49ff-acd4-9ab14e81198f",
   "metadata": {},
   "outputs": [
    {
     "data": {
      "text/plain": [
       "array([[[1.0180473 , 0.98682433, 1.0251356 , ..., 1.1398114 ,\n",
       "         1.1430138 , 1.0899444 ],\n",
       "        [1.0406265 , 1.1003251 , 1.0851144 , ..., 1.0943508 ,\n",
       "         1.1033895 , 1.0350376 ],\n",
       "        [0.9742916 , 1.078246  , 1.0234857 , ..., 0.99328715,\n",
       "         0.9678616 , 0.9385712 ],\n",
       "        ...,\n",
       "        [0.60834026, 0.4766605 , 0.53331023, ..., 0.75508535,\n",
       "         0.79797614, 0.767573  ],\n",
       "        [0.6148898 , 0.5436797 , 0.52537656, ..., 0.81573224,\n",
       "         0.8594461 , 0.77761614],\n",
       "        [0.609564  , 0.4958697 , 0.45316726, ..., 0.7103709 ,\n",
       "         0.7367504 , 0.68554246]],\n",
       "\n",
       "       [[0.90151316, 0.84634787, 0.87468904, ..., 0.96224165,\n",
       "         0.9623848 , 0.9187774 ],\n",
       "        [0.89676684, 0.88566005, 0.90290195, ..., 0.9184166 ,\n",
       "         0.90238196, 0.9321945 ],\n",
       "        [0.94172794, 0.9704555 , 0.95964867, ..., 1.0791304 ,\n",
       "         1.0714663 , 0.96915764],\n",
       "        ...,\n",
       "        [0.73363817, 0.72934425, 0.7210588 , ..., 0.81922776,\n",
       "         0.89184606, 0.81792146],\n",
       "        [0.71372163, 0.7145444 , 0.7382909 , ..., 0.8034871 ,\n",
       "         0.8690694 , 0.88025105],\n",
       "        [0.6937766 , 0.6648801 , 0.6732183 , ..., 0.74744546,\n",
       "         0.8000119 , 0.8182288 ]],\n",
       "\n",
       "       [[1.0201043 , 1.097373  , 1.0526837 , ..., 1.1007258 ,\n",
       "         1.0469799 , 0.97549015],\n",
       "        [1.0044252 , 1.0330547 , 1.0296049 , ..., 1.0730851 ,\n",
       "         1.0195203 , 1.0137732 ],\n",
       "        [1.0103542 , 0.9876365 , 1.0362358 , ..., 1.0500122 ,\n",
       "         1.0837327 , 1.0152947 ],\n",
       "        ...,\n",
       "        [0.71034753, 0.7111975 , 0.7266356 , ..., 0.8026787 ,\n",
       "         0.7644024 , 0.72665006],\n",
       "        [0.6794464 , 0.6582577 , 0.69762146, ..., 0.80613273,\n",
       "         0.77719283, 0.6966392 ],\n",
       "        [0.6795052 , 0.6193485 , 0.63639134, ..., 0.7033968 ,\n",
       "         0.6792781 , 0.65948534]],\n",
       "\n",
       "       ...,\n",
       "\n",
       "       [[0.8107104 , 0.7862694 , 0.7415306 , ..., 0.7950368 ,\n",
       "         0.6923299 , 0.61492646],\n",
       "        [0.8425209 , 0.700022  , 0.6633215 , ..., 0.75936246,\n",
       "         0.73177826, 0.6817285 ],\n",
       "        [0.9001184 , 0.9305446 , 0.9278091 , ..., 0.7479975 ,\n",
       "         0.73048913, 0.7681073 ],\n",
       "        ...,\n",
       "        [0.4632659 , 0.4405266 , 0.46131837, ..., 0.5462743 ,\n",
       "         0.5508708 , 0.5363804 ],\n",
       "        [0.45463794, 0.42907816, 0.43556917, ..., 0.52722657,\n",
       "         0.56329215, 0.56128776],\n",
       "        [0.44587463, 0.37965453, 0.3405519 , ..., 0.4631918 ,\n",
       "         0.47245306, 0.49303973]],\n",
       "\n",
       "       [[0.5718597 , 0.69260716, 0.7292725 , ..., 0.70207214,\n",
       "         0.787922  , 0.75061065],\n",
       "        [0.533394  , 0.6435739 , 0.685959  , ..., 0.690451  ,\n",
       "         0.67809516, 0.6888119 ],\n",
       "        [0.52036655, 0.5662224 , 0.56005526, ..., 0.7087829 ,\n",
       "         0.63938016, 0.6738478 ],\n",
       "        ...,\n",
       "        [0.39166725, 0.41785765, 0.44302016, ..., 0.44123435,\n",
       "         0.39642805, 0.43670428],\n",
       "        [0.415424  , 0.38613224, 0.37476552, ..., 0.39321703,\n",
       "         0.3701647 , 0.43399954],\n",
       "        [0.33911645, 0.22741747, 0.26813966, ..., 0.26195776,\n",
       "         0.28216165, 0.4396069 ]],\n",
       "\n",
       "       [[0.8946195 , 1.0371406 , 1.0446059 , ..., 1.1818862 ,\n",
       "         1.0628132 , 1.0333747 ],\n",
       "        [0.9898285 , 1.0832887 , 1.0912691 , ..., 1.1607697 ,\n",
       "         1.0411806 , 1.0008223 ],\n",
       "        [1.021737  , 1.1154833 , 1.1097075 , ..., 0.9859887 ,\n",
       "         0.97479135, 0.97068053],\n",
       "        ...,\n",
       "        [0.7074753 , 0.7368804 , 0.7241286 , ..., 0.6656151 ,\n",
       "         0.60323936, 0.71660835],\n",
       "        [0.7625482 , 0.7353374 , 0.73984176, ..., 0.6391837 ,\n",
       "         0.57583666, 0.71844083],\n",
       "        [0.63271856, 0.61139405, 0.6096318 , ..., 0.5813937 ,\n",
       "         0.5091999 , 0.7108233 ]]], dtype=float32)"
      ]
     },
     "execution_count": 53,
     "metadata": {},
     "output_type": "execute_result"
    }
   ],
   "source": [
    "(x / 100) + 1"
   ]
  },
  {
   "cell_type": "code",
   "execution_count": 10,
   "id": "3ae1687c-afd1-4139-8847-553294da8f85",
   "metadata": {},
   "outputs": [
    {
     "data": {
      "text/plain": [
       "(128, 90048)"
      ]
     },
     "execution_count": 10,
     "metadata": {},
     "output_type": "execute_result"
    }
   ],
   "source": [
    "recon_x.shape"
   ]
  },
  {
   "cell_type": "code",
   "execution_count": 11,
   "id": "7402ba78-8e42-48e4-a5a4-03bfa4721972",
   "metadata": {},
   "outputs": [
    {
     "data": {
      "text/plain": [
       "(128, 20)"
      ]
     },
     "execution_count": 11,
     "metadata": {},
     "output_type": "execute_result"
    }
   ],
   "source": [
    "mean.shape"
   ]
  },
  {
   "cell_type": "code",
   "execution_count": 75,
   "id": "c7fb4a43-0fae-4b41-a526-e3d175fdc6b6",
   "metadata": {},
   "outputs": [
    {
     "data": {
      "text/plain": [
       "(128, 20)"
      ]
     },
     "execution_count": 75,
     "metadata": {},
     "output_type": "execute_result"
    }
   ],
   "source": [
    "logvar.shape"
   ]
  },
  {
   "cell_type": "code",
   "execution_count": 12,
   "id": "d32e00be-77a4-419f-9fc9-15c803538b1e",
   "metadata": {},
   "outputs": [],
   "source": [
    "@jax.vmap\n",
    "def binary_cross_entropy_with_logits(logits, labels):\n",
    "    # logits = nn.log_sigmoid(logits)\n",
    "    return -jnp.sum(labels * logits + (1. - labels) * jnp.log(-jnp.expm1(logits)))"
   ]
  },
  {
   "cell_type": "code",
   "execution_count": 14,
   "id": "ababffb6-3ddb-4be1-b66c-2cb18670a551",
   "metadata": {},
   "outputs": [
    {
     "data": {
      "text/plain": [
       "DeviceArray([ 0.27958322,  0.6688197 , -0.6230675 , ..., -0.666813  ,\n",
       "              1.2044884 ,  0.72271055], dtype=float32)"
      ]
     },
     "execution_count": 14,
     "metadata": {},
     "output_type": "execute_result"
    }
   ],
   "source": [
    "recon_x[1]"
   ]
  },
  {
   "cell_type": "code",
   "execution_count": 15,
   "id": "1cda9592-6eb7-4846-9b62-a026568bfa33",
   "metadata": {},
   "outputs": [
    {
     "data": {
      "text/plain": [
       "array([[  7.75979   ,  17.437689  ,  16.037876  , ...,  12.3820095 ,\n",
       "         11.747293  ,   3.0238638 ],\n",
       "       [  9.219126  ,  10.514929  ,  12.937308  , ...,   7.894452  ,\n",
       "          6.877384  ,   1.4862472 ],\n",
       "       [  2.9142008 ,  -2.8429666 ,  -0.49661633, ...,   2.0788183 ,\n",
       "         -1.3251833 ,  -2.01241   ],\n",
       "       ...,\n",
       "       [-20.900272  , -21.156702  , -23.31341   , ..., -14.786879  ,\n",
       "        -14.471736  , -17.282541  ],\n",
       "       [-20.30082   , -21.020998  , -20.618256  , ..., -17.809351  ,\n",
       "        -14.999742  , -18.134266  ],\n",
       "       [-25.608671  , -25.25039   , -28.95886   , ..., -21.439734  ,\n",
       "        -22.064102  , -26.228655  ]], dtype=float32)"
      ]
     },
     "execution_count": 15,
     "metadata": {},
     "output_type": "execute_result"
    }
   ],
   "source": [
    "x[1]"
   ]
  },
  {
   "cell_type": "code",
   "execution_count": null,
   "id": "9e51a300-f19a-478b-8aad-f0a5bf630651",
   "metadata": {},
   "outputs": [],
   "source": [
    "recon_x.shape"
   ]
  },
  {
   "cell_type": "code",
   "execution_count": 18,
   "id": "3cc2c934-32f0-4013-ad41-dfb9a8b92ce3",
   "metadata": {},
   "outputs": [
    {
     "data": {
      "text/plain": [
       "DeviceArray(nan, dtype=float32)"
      ]
     },
     "execution_count": 18,
     "metadata": {},
     "output_type": "execute_result"
    }
   ],
   "source": [
    "binary_cross_entropy_with_logits(recon_x, x.reshape(x.shape[0], x.shape[1]*x.shape[2])).mean()"
   ]
  },
  {
   "cell_type": "code",
   "execution_count": 17,
   "id": "48fdb387-ac2e-4470-b3cb-b751137f7a96",
   "metadata": {},
   "outputs": [
    {
     "data": {
      "text/plain": [
       "DeviceArray(0.79210985, dtype=float32)"
      ]
     },
     "execution_count": 17,
     "metadata": {},
     "output_type": "execute_result"
    }
   ],
   "source": [
    "optax.sigmoid_binary_cross_entropy(recon_x, x.reshape(x.shape[0], x.shape[1]*x.shape[2])).mean()"
   ]
  },
  {
   "cell_type": "code",
   "execution_count": 19,
   "id": "42653220-be09-4cd8-9e0e-504ea74a1b8b",
   "metadata": {},
   "outputs": [
    {
     "data": {
      "text/plain": [
       "DeviceArray(18.292273, dtype=float32)"
      ]
     },
     "execution_count": 19,
     "metadata": {},
     "output_type": "execute_result"
    }
   ],
   "source": [
    "kl_divergence(mean, logvar).mean()\n"
   ]
  },
  {
   "cell_type": "code",
   "execution_count": null,
   "id": "bc966359-9d7d-4653-b1e8-8babd7a2b332",
   "metadata": {},
   "outputs": [],
   "source": [
    "\n",
    "bce_loss = binary_cross_entropy_with_logits(recon_x, x.reshape(x.shape[0], x.shape[1]*x.shape[2])).mean()\n",
    "\n",
    "kld_loss = kl_divergence(mean, logvar).mean()\n",
    "\n",
    "loss = bce_loss + kld_loss"
   ]
  },
  {
   "cell_type": "code",
   "execution_count": 59,
   "id": "638a8c56-8950-46f2-b7a0-435eb38975c1",
   "metadata": {},
   "outputs": [],
   "source": [
    "rng, key = jax.random.split(rng)\n",
    "x, y = next(train_data)\n",
    "state, loss = train_step(state, x, y, rng)"
   ]
  },
  {
   "cell_type": "code",
   "execution_count": 60,
   "id": "ba152ff9-8733-46a5-be33-6d19ff3d45ef",
   "metadata": {},
   "outputs": [
    {
     "data": {
      "text/plain": [
       "FrozenDict({\n",
       "    params: {\n",
       "        decoder: {\n",
       "            fc1: {\n",
       "                bias: DeviceArray([nan, nan, nan, nan, nan, nan, nan, nan, nan, nan, nan, nan,\n",
       "                             nan, nan, nan, nan, nan, nan, nan, nan, nan, nan, nan, nan,\n",
       "                             nan, nan, nan, nan, nan, nan, nan, nan, nan, nan, nan, nan,\n",
       "                             nan, nan, nan, nan, nan, nan, nan, nan, nan, nan, nan, nan,\n",
       "                             nan, nan, nan, nan, nan, nan, nan, nan, nan, nan, nan, nan,\n",
       "                             nan, nan, nan, nan, nan, nan, nan, nan, nan, nan, nan, nan,\n",
       "                             nan, nan, nan, nan, nan, nan, nan, nan, nan, nan, nan, nan,\n",
       "                             nan, nan, nan, nan, nan, nan, nan, nan, nan, nan, nan, nan,\n",
       "                             nan, nan, nan, nan, nan, nan, nan, nan, nan, nan, nan, nan,\n",
       "                             nan, nan, nan, nan, nan, nan, nan, nan, nan, nan, nan, nan,\n",
       "                             nan, nan, nan, nan, nan, nan, nan, nan, nan, nan, nan, nan,\n",
       "                             nan, nan, nan, nan, nan, nan, nan, nan, nan, nan, nan, nan,\n",
       "                             nan, nan, nan, nan, nan, nan, nan, nan, nan, nan, nan, nan,\n",
       "                             nan, nan, nan, nan, nan, nan, nan, nan, nan, nan, nan, nan,\n",
       "                             nan, nan, nan, nan, nan, nan, nan, nan, nan, nan, nan, nan,\n",
       "                             nan, nan, nan, nan, nan, nan, nan, nan, nan, nan, nan, nan,\n",
       "                             nan, nan, nan, nan, nan, nan, nan, nan, nan, nan, nan, nan,\n",
       "                             nan, nan, nan, nan, nan, nan, nan, nan, nan, nan, nan, nan,\n",
       "                             nan, nan, nan, nan, nan, nan, nan, nan, nan, nan, nan, nan,\n",
       "                             nan, nan, nan, nan, nan, nan, nan, nan, nan, nan, nan, nan,\n",
       "                             nan, nan, nan, nan, nan, nan, nan, nan, nan, nan, nan, nan,\n",
       "                             nan, nan, nan, nan, nan, nan, nan, nan, nan, nan, nan, nan,\n",
       "                             nan, nan, nan, nan, nan, nan, nan, nan, nan, nan, nan, nan,\n",
       "                             nan, nan, nan, nan, nan, nan, nan, nan, nan, nan, nan, nan,\n",
       "                             nan, nan, nan, nan, nan, nan, nan, nan, nan, nan, nan, nan,\n",
       "                             nan, nan, nan, nan, nan, nan, nan, nan, nan, nan, nan, nan,\n",
       "                             nan, nan, nan, nan, nan, nan, nan, nan, nan, nan, nan, nan,\n",
       "                             nan, nan, nan, nan, nan, nan, nan, nan, nan, nan, nan, nan,\n",
       "                             nan, nan, nan, nan, nan, nan, nan, nan, nan, nan, nan, nan,\n",
       "                             nan, nan, nan, nan, nan, nan, nan, nan, nan, nan, nan, nan,\n",
       "                             nan, nan, nan, nan, nan, nan, nan, nan, nan, nan, nan, nan,\n",
       "                             nan, nan, nan, nan, nan, nan, nan, nan, nan, nan, nan, nan,\n",
       "                             nan, nan, nan, nan, nan, nan, nan, nan, nan, nan, nan, nan,\n",
       "                             nan, nan, nan, nan, nan, nan, nan, nan, nan, nan, nan, nan,\n",
       "                             nan, nan, nan, nan, nan, nan, nan, nan, nan, nan, nan, nan,\n",
       "                             nan, nan, nan, nan, nan, nan, nan, nan, nan, nan, nan, nan,\n",
       "                             nan, nan, nan, nan, nan, nan, nan, nan, nan, nan, nan, nan,\n",
       "                             nan, nan, nan, nan, nan, nan, nan, nan, nan, nan, nan, nan,\n",
       "                             nan, nan, nan, nan, nan, nan, nan, nan, nan, nan, nan, nan,\n",
       "                             nan, nan, nan, nan, nan, nan, nan, nan, nan, nan, nan, nan,\n",
       "                             nan, nan, nan, nan, nan, nan, nan, nan, nan, nan, nan, nan,\n",
       "                             nan, nan, nan, nan, nan, nan, nan, nan], dtype=float32),\n",
       "                kernel: DeviceArray([[nan, nan, nan, ..., nan, nan, nan],\n",
       "                             [nan, nan, nan, ..., nan, nan, nan],\n",
       "                             [nan, nan, nan, ..., nan, nan, nan],\n",
       "                             ...,\n",
       "                             [nan, nan, nan, ..., nan, nan, nan],\n",
       "                             [nan, nan, nan, ..., nan, nan, nan],\n",
       "                             [nan, nan, nan, ..., nan, nan, nan]], dtype=float32),\n",
       "            },\n",
       "            fc2: {\n",
       "                bias: DeviceArray([nan, nan, nan, ..., nan, nan, nan], dtype=float32),\n",
       "                kernel: DeviceArray([[nan, nan, nan, ..., nan, nan, nan],\n",
       "                             [nan, nan, nan, ..., nan, nan, nan],\n",
       "                             [nan, nan, nan, ..., nan, nan, nan],\n",
       "                             ...,\n",
       "                             [nan, nan, nan, ..., nan, nan, nan],\n",
       "                             [nan, nan, nan, ..., nan, nan, nan],\n",
       "                             [nan, nan, nan, ..., nan, nan, nan]], dtype=float32),\n",
       "            },\n",
       "        },\n",
       "        encoder: {\n",
       "            fc1: {\n",
       "                bias: DeviceArray([        nan,         nan,         nan,         nan,\n",
       "                                     nan,         nan,         nan,         nan,\n",
       "                                     nan,         nan,         nan,         nan,\n",
       "                                     nan,         nan,         nan,         nan,\n",
       "                                     nan,         nan,         nan,  0.        ,\n",
       "                                     nan,         nan,         nan,         nan,\n",
       "                                     nan,         nan,         nan,         nan,\n",
       "                                     nan,  0.        ,         nan,         nan,\n",
       "                                     nan,         nan,         nan,         nan,\n",
       "                                     nan,         nan,  0.        ,         nan,\n",
       "                                     nan,  0.        ,         nan,         nan,\n",
       "                                     nan,         nan,         nan,         nan,\n",
       "                                     nan,         nan,  0.        ,         nan,\n",
       "                                     nan,         nan,         nan,         nan,\n",
       "                                     nan,         nan,         nan,         nan,\n",
       "                              0.        ,         nan,         nan,         nan,\n",
       "                                     nan,         nan,         nan,         nan,\n",
       "                                     nan,         nan,         nan,         nan,\n",
       "                                     nan,         nan,         nan,         nan,\n",
       "                                     nan,         nan,         nan,         nan,\n",
       "                                     nan,         nan,         nan,         nan,\n",
       "                                     nan,         nan,         nan,         nan,\n",
       "                                     nan,  0.        ,         nan,         nan,\n",
       "                                     nan,  0.        ,         nan,         nan,\n",
       "                                     nan,         nan,         nan,  0.        ,\n",
       "                                     nan,  0.        ,  0.        ,         nan,\n",
       "                                     nan,         nan,         nan,         nan,\n",
       "                                     nan,         nan,  0.        ,         nan,\n",
       "                                     nan,         nan,         nan,         nan,\n",
       "                                     nan,         nan,         nan,         nan,\n",
       "                                     nan,         nan,         nan,  0.        ,\n",
       "                                     nan,  0.        ,         nan,         nan,\n",
       "                                     nan,         nan,         nan,         nan,\n",
       "                                     nan,         nan,         nan,         nan,\n",
       "                                     nan,  0.        ,         nan,         nan,\n",
       "                                     nan,         nan,         nan,         nan,\n",
       "                                     nan,         nan,         nan,         nan,\n",
       "                                     nan,         nan,         nan,         nan,\n",
       "                                     nan,         nan,         nan,  0.        ,\n",
       "                                     nan,         nan,  0.        ,         nan,\n",
       "                              0.        ,         nan,         nan,  0.        ,\n",
       "                                     nan,         nan,         nan,         nan,\n",
       "                                     nan,         nan,         nan,         nan,\n",
       "                                     nan,         nan,         nan,         nan,\n",
       "                                     nan,         nan,  0.        ,         nan,\n",
       "                                     nan,         nan,         nan,         nan,\n",
       "                              0.        ,         nan,         nan,         nan,\n",
       "                                     nan,         nan,  0.        ,         nan,\n",
       "                                     nan,         nan,         nan,         nan,\n",
       "                                     nan,         nan,         nan,         nan,\n",
       "                                     nan,         nan,         nan,         nan,\n",
       "                                     nan,  0.        ,         nan,         nan,\n",
       "                                     nan,         nan,         nan,         nan,\n",
       "                                     nan,         nan,         nan,         nan,\n",
       "                                     nan,         nan,         nan,         nan,\n",
       "                                     nan,         nan,         nan,         nan,\n",
       "                                     nan,         nan,         nan,         nan,\n",
       "                                     nan,         nan,         nan,  0.        ,\n",
       "                                     nan,         nan,         nan,         nan,\n",
       "                                     nan,  0.        ,         nan,         nan,\n",
       "                                     nan,         nan,         nan,  0.        ,\n",
       "                              0.        ,         nan,         nan,         nan,\n",
       "                                     nan,         nan,         nan,         nan,\n",
       "                                     nan,         nan,         nan,         nan,\n",
       "                                     nan,         nan,         nan,  0.        ,\n",
       "                                     nan,         nan,         nan,         nan,\n",
       "                                     nan,  0.        ,         nan,         nan,\n",
       "                                     nan,         nan,         nan,         nan,\n",
       "                              0.        ,         nan,         nan,         nan,\n",
       "                                     nan,         nan,         nan,         nan,\n",
       "                              0.        ,         nan,         nan,         nan,\n",
       "                                     nan,         nan,         nan,         nan,\n",
       "                                     nan,         nan,         nan,         nan,\n",
       "                                     nan,         nan,         nan,         nan,\n",
       "                                     nan,         nan,         nan,  0.        ,\n",
       "                                     nan,         nan,         nan,         nan,\n",
       "                                     nan,         nan,         nan,  0.        ,\n",
       "                                     nan,  0.        ,         nan,  0.        ,\n",
       "                                     nan,  0.        ,         nan,         nan,\n",
       "                                     nan,         nan,         nan,         nan,\n",
       "                                     nan,         nan,         nan,         nan,\n",
       "                                     nan,         nan,         nan,         nan,\n",
       "                                     nan,  0.        ,         nan,         nan,\n",
       "                                     nan,         nan,         nan,         nan,\n",
       "                                     nan,         nan,         nan,         nan,\n",
       "                              0.        ,         nan,  0.        ,         nan,\n",
       "                                     nan,         nan,         nan,         nan,\n",
       "                                     nan,         nan,         nan,  0.        ,\n",
       "                                     nan,         nan,         nan,         nan,\n",
       "                                     nan,         nan,         nan,         nan,\n",
       "                                     nan,         nan,         nan,         nan,\n",
       "                                     nan,  0.        ,         nan,         nan,\n",
       "                                     nan,         nan,         nan,         nan,\n",
       "                              0.        ,  0.        ,         nan,         nan,\n",
       "                                     nan,         nan,         nan,  0.        ,\n",
       "                                     nan,         nan,         nan,  0.        ,\n",
       "                                     nan,  0.        ,         nan,         nan,\n",
       "                                     nan,         nan,         nan,  0.        ,\n",
       "                                     nan,  0.        ,         nan,         nan,\n",
       "                              0.        ,         nan,         nan,  0.        ,\n",
       "                                     nan,         nan,         nan,  0.        ,\n",
       "                                     nan,         nan,         nan,         nan,\n",
       "                                     nan,         nan,         nan,         nan,\n",
       "                                     nan,         nan,         nan,         nan,\n",
       "                                     nan,         nan,         nan,         nan,\n",
       "                                     nan,         nan,         nan,         nan,\n",
       "                                     nan,  0.        ,         nan,         nan,\n",
       "                                     nan,  0.        ,         nan,         nan,\n",
       "                                     nan,         nan,         nan,         nan,\n",
       "                                     nan,         nan,         nan,         nan,\n",
       "                                     nan,         nan,         nan,         nan,\n",
       "                                     nan,  0.        ,         nan,         nan,\n",
       "                              0.        ,         nan,         nan,  0.        ,\n",
       "                                     nan,         nan,         nan,         nan,\n",
       "                                     nan,         nan,  0.        ,         nan,\n",
       "                                     nan,         nan,         nan,         nan,\n",
       "                                     nan,         nan,         nan,         nan,\n",
       "                                     nan,         nan,         nan,         nan,\n",
       "                                     nan,         nan,         nan,         nan,\n",
       "                                     nan,         nan,         nan,         nan,\n",
       "                                     nan,         nan,         nan,         nan,\n",
       "                                     nan,         nan,         nan, -0.00010007,\n",
       "                                     nan,         nan,         nan,         nan,\n",
       "                                     nan,         nan,         nan,         nan,\n",
       "                                     nan,         nan,         nan,         nan],            dtype=float32),\n",
       "                kernel: DeviceArray([[nan, nan, nan, ..., nan, nan, nan],\n",
       "                             [nan, nan, nan, ..., nan, nan, nan],\n",
       "                             [nan, nan, nan, ..., nan, nan, nan],\n",
       "                             ...,\n",
       "                             [nan, nan, nan, ..., nan, nan, nan],\n",
       "                             [nan, nan, nan, ..., nan, nan, nan],\n",
       "                             [nan, nan, nan, ..., nan, nan, nan]], dtype=float32),\n",
       "            },\n",
       "            fc2_logvar: {\n",
       "                bias: DeviceArray([nan, nan, nan, nan, nan, nan, nan, nan, nan, nan, nan, nan,\n",
       "                             nan, nan, nan, nan, nan, nan, nan, nan], dtype=float32),\n",
       "                kernel: DeviceArray([[nan, nan, nan, ..., nan, nan, nan],\n",
       "                             [nan, nan, nan, ..., nan, nan, nan],\n",
       "                             [nan, nan, nan, ..., nan, nan, nan],\n",
       "                             ...,\n",
       "                             [nan, nan, nan, ..., nan, nan, nan],\n",
       "                             [nan, nan, nan, ..., nan, nan, nan],\n",
       "                             [nan, nan, nan, ..., nan, nan, nan]], dtype=float32),\n",
       "            },\n",
       "            fc2_mean: {\n",
       "                bias: DeviceArray([nan, nan, nan, nan, nan, nan, nan, nan, nan, nan, nan, nan,\n",
       "                             nan, nan, nan, nan, nan, nan, nan, nan], dtype=float32),\n",
       "                kernel: DeviceArray([[nan, nan, nan, ..., nan, nan, nan],\n",
       "                             [nan, nan, nan, ..., nan, nan, nan],\n",
       "                             [nan, nan, nan, ..., nan, nan, nan],\n",
       "                             ...,\n",
       "                             [nan, nan, nan, ..., nan, nan, nan],\n",
       "                             [nan, nan, nan, ..., nan, nan, nan],\n",
       "                             [nan, nan, nan, ..., nan, nan, nan]], dtype=float32),\n",
       "            },\n",
       "        },\n",
       "    },\n",
       "})"
      ]
     },
     "execution_count": 60,
     "metadata": {},
     "output_type": "execute_result"
    }
   ],
   "source": [
    "state.params"
   ]
  },
  {
   "cell_type": "code",
   "execution_count": null,
   "id": "5175a77d-4bf7-44b2-b461-44b1c2c49338",
   "metadata": {},
   "outputs": [],
   "source": [
    "\n",
    "# ---initializing model---\n",
    "model = CVAE()\n",
    "print(\"Initializing model....\")\n",
    "state = init_state(model, \n",
    "                   next(iter(train_dataloader))[0].shape, \n",
    "                   next(iter(train_dataloader))[1].shape,\n",
    "                   rng, \n",
    "                   lr)\n",
    "\n",
    "print(\"Initialize complete!!\\n\")\n",
    "# ---train model---\n",
    "epoch = 50\n",
    "# checkpoint_dir = str(input('checkpoint dir : '))\n",
    "\n",
    "\n",
    "for i in range(epoch):\n",
    "    train_data = iter(train_dataloader)\n",
    "    loss_mean = 0\n",
    "    print(f'\\nEpoch {i+1}')\n",
    "\n",
    "    for j in range(len(train_dataloader)):\n",
    "        rng, key = jax.random.split(rng)\n",
    "        x, y = next(train_data)\n",
    "        state, loss = train_step(state, x, y, rng)\n",
    "\n",
    "        loss_mean += loss\n",
    "\n",
    "        print(f'step : {j}/{len(train_dataloader)}, loss : {loss}', end='\\r')\n",
    "\n",
    "    print(f'epoch {i+1} - average loss : {loss_mean/len(train_dataloader)}')\n",
    "\n",
    "\n",
    "\n",
    "\n"
   ]
  },
  {
   "cell_type": "code",
   "execution_count": null,
   "id": "41407eaf-9ce8-4829-950a-50df021708d9",
   "metadata": {},
   "outputs": [],
   "source": []
  }
 ],
 "metadata": {
  "kernelspec": {
   "display_name": "Python 3 (ipykernel)",
   "language": "python",
   "name": "python3"
  },
  "language_info": {
   "codemirror_mode": {
    "name": "ipython",
    "version": 3
   },
   "file_extension": ".py",
   "mimetype": "text/x-python",
   "name": "python",
   "nbconvert_exporter": "python",
   "pygments_lexer": "ipython3",
   "version": "3.8.10"
  }
 },
 "nbformat": 4,
 "nbformat_minor": 5
}
