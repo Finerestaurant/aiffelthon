{
 "cells": [
  {
   "cell_type": "code",
   "execution_count": 1,
   "id": "00f3c51e-ccb9-4a0b-a74a-51444911900f",
   "metadata": {},
   "outputs": [],
   "source": [
    "# 2022-09-02 16:23 Seoul\n",
    "\n",
    "# --- import dataset ---\n",
    "from utils.dataloader import mel_dataset\n",
    "from utils.losses import *\n",
    "from torch.utils.data import DataLoader, random_split\n",
    "\n",
    "# --- import model ---\n",
    "from model.supervised_model import *\n",
    "\n",
    "# --- import framework ---\n",
    "import flax \n",
    "import flax.linen as nn\n",
    "from flax.training import train_state\n",
    "import jax\n",
    "import numpy as np\n",
    "import jax.numpy as jnp\n",
    "import optax\n",
    "\n",
    "import cloudpickle\n",
    "import argparse\n",
    "from tqdm import tqdm\n",
    "import os\n",
    "import wandb\n",
    "import matplotlib.pyplot as plt"
   ]
  },
  {
   "cell_type": "code",
   "execution_count": 2,
   "id": "cbf28266-5473-466b-889c-a6698ba261c4",
   "metadata": {},
   "outputs": [],
   "source": [
    "from model.Conv2d_model import Conv2d_VAE, Encoder"
   ]
  },
  {
   "cell_type": "code",
   "execution_count": 36,
   "id": "0e896912-13ec-4acc-96f7-f4698694256e",
   "metadata": {},
   "outputs": [],
   "source": [
    "key = jax.random.PRNGKey(320)\n",
    "enc_linear_init = Encoder(dilation=True, linear=True).init(key, jnp.ones((12, 48, 1876)))"
   ]
  },
  {
   "cell_type": "code",
   "execution_count": 37,
   "id": "8291832c-d281-4f9a-b1c2-a3d0fc516cd7",
   "metadata": {},
   "outputs": [],
   "source": [
    "enc_nonlinear_init = Encoder(dilation=True).init(key, jnp.ones((12, 48, 1876)))"
   ]
  },
  {
   "cell_type": "code",
   "execution_count": 38,
   "id": "8334f686-47a0-4832-aad8-cb74a4f1d367",
   "metadata": {},
   "outputs": [
    {
     "data": {
      "text/plain": [
       "frozen_dict_keys(['Conv_0', 'BatchNorm_0', 'Conv_1', 'BatchNorm_1', 'Conv_2', 'BatchNorm_2', 'Conv_3', 'BatchNorm_3', 'Conv_4', 'BatchNorm_4', 'Conv_5', 'BatchNorm_5', 'Conv_6', 'BatchNorm_6', 'Conv_7', 'BatchNorm_7', 'latent_vector'])"
      ]
     },
     "execution_count": 38,
     "metadata": {},
     "output_type": "execute_result"
    }
   ],
   "source": [
    "enc_nonlinear_init['params'].keys()"
   ]
  },
  {
   "cell_type": "code",
   "execution_count": 39,
   "id": "f2886387-19ec-4848-9d35-2e19ebb230ad",
   "metadata": {},
   "outputs": [
    {
     "data": {
      "text/plain": [
       "frozen_dict_keys(['Conv_0', 'BatchNorm_0', 'Conv_1', 'BatchNorm_1', 'Conv_2', 'BatchNorm_2', 'Conv_3', 'BatchNorm_3', 'Conv_4', 'BatchNorm_4', 'Conv_5', 'BatchNorm_5', 'Conv_6', 'BatchNorm_6', 'Conv_7', 'BatchNorm_7', 'latent_vector', 'linear_hidden_layer', 'linear_classification'])"
      ]
     },
     "execution_count": 39,
     "metadata": {},
     "output_type": "execute_result"
    }
   ],
   "source": [
    "enc_linear_init['params'].keys()"
   ]
  },
  {
   "cell_type": "code",
   "execution_count": 40,
   "id": "a7d8b28d-7f68-4952-8375-24bb7ae0316c",
   "metadata": {},
   "outputs": [],
   "source": [
    "linear_init = linear_evaluation().init(key, jnp.ones((12, 512)))"
   ]
  },
  {
   "cell_type": "code",
   "execution_count": 41,
   "id": "a48ce0dc-c9dd-40c8-9c48-772aa9eb697c",
   "metadata": {},
   "outputs": [
    {
     "data": {
      "text/plain": [
       "frozen_dict_keys(['linear_hidden_layer', 'linear_classification'])"
      ]
     },
     "execution_count": 41,
     "metadata": {},
     "output_type": "execute_result"
    }
   ],
   "source": [
    "linear_init['params'].keys()"
   ]
  },
  {
   "cell_type": "code",
   "execution_count": 50,
   "id": "1864c281-0551-4505-8ba5-0bb0d5e18ec5",
   "metadata": {},
   "outputs": [
    {
     "ename": "ValueError",
     "evalue": "FrozenDict is immutable.",
     "output_type": "error",
     "traceback": [
      "\u001b[0;31m---------------------------------------------------------------------------\u001b[0m",
      "\u001b[0;31mValueError\u001b[0m                                Traceback (most recent call last)",
      "Input \u001b[0;32mIn [50]\u001b[0m, in \u001b[0;36m<cell line: 1>\u001b[0;34m()\u001b[0m\n\u001b[0;32m----> 1\u001b[0m \u001b[43mlinear_init\u001b[49m\u001b[43m[\u001b[49m\u001b[38;5;124;43m'\u001b[39;49m\u001b[38;5;124;43mparams\u001b[39;49m\u001b[38;5;124;43m'\u001b[39;49m\u001b[43m]\u001b[49m \u001b[38;5;241m=\u001b[39m linear_init[\u001b[38;5;124m'\u001b[39m\u001b[38;5;124mparams\u001b[39m\u001b[38;5;124m'\u001b[39m]\n",
      "File \u001b[0;32m/usr/local/lib/python3.8/dist-packages/flax/core/frozen_dict.py:72\u001b[0m, in \u001b[0;36mFrozenDict.__setitem__\u001b[0;34m(self, key, value)\u001b[0m\n\u001b[1;32m     71\u001b[0m \u001b[38;5;28;01mdef\u001b[39;00m \u001b[38;5;21m__setitem__\u001b[39m(\u001b[38;5;28mself\u001b[39m, key, value):\n\u001b[0;32m---> 72\u001b[0m   \u001b[38;5;28;01mraise\u001b[39;00m \u001b[38;5;167;01mValueError\u001b[39;00m(\u001b[38;5;124m'\u001b[39m\u001b[38;5;124mFrozenDict is immutable.\u001b[39m\u001b[38;5;124m'\u001b[39m)\n",
      "\u001b[0;31mValueError\u001b[0m: FrozenDict is immutable."
     ]
    }
   ],
   "source": [
    "linear_init['params'] = linear_init['params']"
   ]
  },
  {
   "cell_type": "code",
   "execution_count": 42,
   "id": "45395567-3b1b-409a-9bc6-2df3d2fca2ce",
   "metadata": {},
   "outputs": [],
   "source": [
    "from flax.core.frozen_dict import unfreeze, freeze\n",
    "\n",
    "enc_unfreeze_variable = unfreeze(enc_nonlinear_init)"
   ]
  },
  {
   "cell_type": "code",
   "execution_count": 43,
   "id": "c3fb04b0-3df1-4501-bbd2-24e2ebb7a7eb",
   "metadata": {},
   "outputs": [
    {
     "data": {
      "text/plain": [
       "dict_keys(['BatchNorm_0', 'BatchNorm_1', 'BatchNorm_2', 'BatchNorm_3', 'BatchNorm_4', 'BatchNorm_5', 'BatchNorm_6', 'BatchNorm_7', 'Conv_0', 'Conv_1', 'Conv_2', 'Conv_3', 'Conv_4', 'Conv_5', 'Conv_6', 'Conv_7', 'latent_vector'])"
      ]
     },
     "execution_count": 43,
     "metadata": {},
     "output_type": "execute_result"
    }
   ],
   "source": [
    "enc_unfreeze_variable['params'].keys()"
   ]
  },
  {
   "cell_type": "code",
   "execution_count": 44,
   "id": "8008383c-3103-4958-b7d5-ee250e7f9496",
   "metadata": {},
   "outputs": [],
   "source": [
    "enc_unfreeze_variable['params']['linear_hidden_layer'] = linear_init['params']['linear_hidden_layer']"
   ]
  },
  {
   "cell_type": "code",
   "execution_count": 45,
   "id": "7a4da6cb-44c0-4f60-9fc7-0bba22c9b9e6",
   "metadata": {},
   "outputs": [],
   "source": [
    "enc_unfreeze_variable['params']['linear_classification'] = linear_init['params']['linear_classification']"
   ]
  },
  {
   "cell_type": "code",
   "execution_count": 46,
   "id": "e45d1f20-d345-43d7-9acb-cf8636c19218",
   "metadata": {},
   "outputs": [],
   "source": [
    "enc_linear_init = freeze(enc_unfreeze_variable)"
   ]
  },
  {
   "cell_type": "code",
   "execution_count": 47,
   "id": "2f222bd1-39d4-4b2c-93ff-8314a1920bd0",
   "metadata": {},
   "outputs": [
    {
     "data": {
      "text/plain": [
       "frozen_dict_keys(['BatchNorm_0', 'BatchNorm_1', 'BatchNorm_2', 'BatchNorm_3', 'BatchNorm_4', 'BatchNorm_5', 'BatchNorm_6', 'BatchNorm_7', 'Conv_0', 'Conv_1', 'Conv_2', 'Conv_3', 'Conv_4', 'Conv_5', 'Conv_6', 'Conv_7', 'latent_vector', 'linear_hidden_layer', 'linear_classification'])"
      ]
     },
     "execution_count": 47,
     "metadata": {},
     "output_type": "execute_result"
    }
   ],
   "source": [
    "enc_linear_init['params'].keys()"
   ]
  },
  {
   "cell_type": "code",
   "execution_count": 48,
   "id": "0330a12c-5638-4ac3-9ead-31f5f435142f",
   "metadata": {},
   "outputs": [],
   "source": [
    "logits = Encoder(dilation=True, linear=True).apply(enc_linear_init, jnp.ones((12, 48, 1876)))"
   ]
  },
  {
   "cell_type": "code",
   "execution_count": 49,
   "id": "69b65b87-a19f-4e97-af30-fba01ffe2db2",
   "metadata": {},
   "outputs": [
    {
     "data": {
      "text/plain": [
       "(12, 30)"
      ]
     },
     "execution_count": 49,
     "metadata": {},
     "output_type": "execute_result"
    }
   ],
   "source": [
    "logits.shape"
   ]
  },
  {
   "cell_type": "code",
   "execution_count": null,
   "id": "835c3957-4e0c-4975-ad4f-690a8e762bde",
   "metadata": {},
   "outputs": [],
   "source": []
  }
 ],
 "metadata": {
  "kernelspec": {
   "display_name": "Python 3 (ipykernel)",
   "language": "python",
   "name": "python3"
  },
  "language_info": {
   "codemirror_mode": {
    "name": "ipython",
    "version": 3
   },
   "file_extension": ".py",
   "mimetype": "text/x-python",
   "name": "python",
   "nbconvert_exporter": "python",
   "pygments_lexer": "ipython3",
   "version": "3.8.10"
  }
 },
 "nbformat": 4,
 "nbformat_minor": 5
}
